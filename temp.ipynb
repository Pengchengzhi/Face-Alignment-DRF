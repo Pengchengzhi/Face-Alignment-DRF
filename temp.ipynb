{
  "nbformat": 4,
  "nbformat_minor": 0,
  "metadata": {
    "colab": {
      "name": "Heatmap_each.ipynb",
      "provenance": [],
      "collapsed_sections": [
        "DYg3xfn9nNZG",
        "Ujtj3iZLeKjh",
        "WuadX7ih6DBH",
        "hI4oDHxZL2g1",
        "tkTz5sUQMLz0",
        "FPmmxXVJMR_X",
        "5XrhpzoaCBu6",
        "Thgdc-wEzmgX"
      ],
      "machine_shape": "hm",
      "authorship_tag": "ABX9TyO7gJ04b1HRmkBx1ZFF8zpd",
      "include_colab_link": true
    },
    "kernelspec": {
      "name": "python3",
      "display_name": "Python 3"
    },
    "language_info": {
      "name": "python"
    },
    "accelerator": "GPU"
  },
  "cells": [
    {
      "cell_type": "markdown",
      "metadata": {
        "id": "view-in-github",
        "colab_type": "text"
      },
      "source": [
        "<a href=\"https://colab.research.google.com/github/Pengchengzhi/Face-Alignment-DRF/blob/main/temp.ipynb\" target=\"_parent\"><img src=\"https://colab.research.google.com/assets/colab-badge.svg\" alt=\"Open In Colab\"/></a>"
      ]
    },
    {
      "cell_type": "markdown",
      "metadata": {
        "id": "MM5xsjG4dlYi"
      },
      "source": [
        "This program generates one heatmap for each landmark, while `Heatmap_all.ipynb` generates one heatmap for all landmarks."
      ]
    },
    {
      "cell_type": "markdown",
      "metadata": {
        "id": "SD7pZTmPHOjw"
      },
      "source": [
        "* 不要用 Gaussian 做 Label，匹配 Loss Function 的形状，保证理论上误差为0.\n"
      ]
    },
    {
      "cell_type": "markdown",
      "metadata": {
        "id": "DYg3xfn9nNZG"
      },
      "source": [
        "# 1. Initialize"
      ]
    },
    {
      "cell_type": "code",
      "metadata": {
        "id": "CwaFQsAKXJeu"
      },
      "source": [
        "# function ConnectButton(){\n",
        "#   console.log(\"Connect pushed\"); \n",
        "#   document.querySelector(\"#top-toolbar > colab-connect-button\").shadowRoot.querySelector(\"#connect\").click() \n",
        "# }\n",
        "# setInterval(ConnectButton,60000);\n",
        "\n",
        "\n",
        "# clearInterval(37042)"
      ],
      "execution_count": 1,
      "outputs": []
    },
    {
      "cell_type": "code",
      "metadata": {
        "colab": {
          "base_uri": "https://localhost:8080/"
        },
        "id": "rZz6RlS5nIjb",
        "outputId": "3fe0a4ea-bf01-4838-f322-99ff4462bc15"
      },
      "source": [
        "from google.colab import drive\n",
        "drive.mount(\"/content/drive\")\n",
        "\n",
        "import os\n",
        "path=\"/content/drive/My Drive/Face Alignment DRF\"\n",
        "os.chdir(path)\n",
        "os.listdir(path)"
      ],
      "execution_count": 2,
      "outputs": [
        {
          "output_type": "stream",
          "text": [
            "Drive already mounted at /content/drive; to attempt to forcibly remount, call drive.mount(\"/content/drive\", force_remount=True).\n"
          ],
          "name": "stdout"
        },
        {
          "output_type": "execute_result",
          "data": {
            "text/plain": [
              "['Procruses Analysis.ipynb',\n",
              " 'PCA.ipynb',\n",
              " '__pycache__',\n",
              " 'utils',\n",
              " 'datasets',\n",
              " 'Gaussian.ipynb',\n",
              " 'Heatmap_all.ipynb',\n",
              " 'trained_models',\n",
              " 'DataPreprocessing.ipynb',\n",
              " 'checkpoints',\n",
              " 'Heatmap_each.ipynb',\n",
              " 'Update_leaf.ipynb']"
            ]
          },
          "metadata": {
            "tags": []
          },
          "execution_count": 2
        }
      ]
    },
    {
      "cell_type": "code",
      "metadata": {
        "id": "9t1ZMq5bnImS"
      },
      "source": [
        "import numpy as np\n",
        "import torch\n",
        "import torch.nn as nn\n",
        "import matplotlib.pyplot as plt\n",
        "import os\n",
        "import cv2\n",
        "import json\n",
        "import pandas as pd\n",
        "from PIL import Image\n",
        "import torchvision.models as models\n",
        "import pdb\n",
        "from torch.nn import Upsample\n",
        "from torch.autograd import Variable\n",
        "import torch.optim as optim\n",
        "import time\n",
        "\n",
        "import warnings\n",
        "warnings.filterwarnings('ignore')\n"
      ],
      "execution_count": 3,
      "outputs": []
    },
    {
      "cell_type": "code",
      "metadata": {
        "id": "7X_p3w2L1N3I"
      },
      "source": [
        "from utils.hourglass import *\n",
        "from utils.dataloader import *\n",
        "from utils.heatmap_utils import *"
      ],
      "execution_count": 4,
      "outputs": []
    },
    {
      "cell_type": "code",
      "metadata": {
        "id": "2IdbgNl31N63"
      },
      "source": [
        "device = 'cuda' if torch.cuda.is_available() else 'cpu'\n",
        "dim_tree = 5 # how deep the regression tree is \n",
        "num_tree = 3 # number of regression trees\n",
        "variance_gaussian = 5\n",
        "\n",
        "num_fc = int(num_tree*(2**(dim_tree-1)-1))\n",
        "num_leaf_nodes = int(num_tree*2**(dim_tree-1))"
      ],
      "execution_count": 5,
      "outputs": []
    },
    {
      "cell_type": "markdown",
      "metadata": {
        "id": "Ujtj3iZLeKjh"
      },
      "source": [
        "# 2. Data Loader"
      ]
    },
    {
      "cell_type": "code",
      "metadata": {
        "id": "9p3Gm9g7ePAp",
        "colab": {
          "base_uri": "https://localhost:8080/"
        },
        "outputId": "08fb8adb-66e4-433e-eeb2-1b6b8672b506"
      },
      "source": [
        "helen_trainset = Helen_set(dataset_type=\"train\",var=variance_gaussian)"
      ],
      "execution_count": null,
      "outputs": [
        {
          "output_type": "stream",
          "text": [
            "Loading [1/2000] pictures......\n"
          ],
          "name": "stdout"
        }
      ]
    },
    {
      "cell_type": "code",
      "metadata": {
        "id": "AxldHghxePCz"
      },
      "source": [
        "helen_testset = Helen_set(dataset_type=\"test\",var=variance_gaussian)"
      ],
      "execution_count": null,
      "outputs": []
    },
    {
      "cell_type": "code",
      "metadata": {
        "id": "3hipK3-uf0O5"
      },
      "source": [
        "train_dataloder = DataLoader(helen_trainset, batch_size=30)\n",
        "test_dataloder = DataLoader(helen_testset, batch_size=30)"
      ],
      "execution_count": null,
      "outputs": []
    },
    {
      "cell_type": "markdown",
      "metadata": {
        "id": "WuadX7ih6DBH"
      },
      "source": [
        "# 3. Pre Train"
      ]
    },
    {
      "cell_type": "code",
      "metadata": {
        "id": "TuvaAR5zZyaO"
      },
      "source": [
        "helen_sampleset = Helen_set(dataset_type=\"sample\")\n",
        "sample_dataloder = DataLoader(helen_sampleset, batch_size=20)"
      ],
      "execution_count": null,
      "outputs": []
    },
    {
      "cell_type": "code",
      "metadata": {
        "id": "v8dtsSr1YTxC"
      },
      "source": [
        "critical = torch.nn.MSELoss()\n",
        "\n",
        "nIters = 200\n",
        "HGNet = HGNet().to(device)\n",
        "optimizer = optim.SGD(HGNet.parameters(), lr=0.001, momentum=0.9, weight_decay=1e-4)"
      ],
      "execution_count": null,
      "outputs": []
    },
    {
      "cell_type": "code",
      "metadata": {
        "id": "ldqsJUzm6FOm"
      },
      "source": [
        "loss_hist = torch.zeros(nIters)\n",
        "loss_epoch = torch.zeros(10)\n",
        "\n",
        "for iter in range(nIters):\n",
        "  for i, (x,_,y) in enumerate(sample_dataloder):\n",
        "    x = Variable(x,requires_grad=True).float().to(device)\n",
        "    y = Variable(y).float().to(device)\n",
        "    y_pred = HGNet.forward(x)\n",
        "    loss = critical(y_pred, y)\n",
        "    loss_epoch[i] = loss.item()\n",
        "\n",
        "    if i == 9:\n",
        "      loss_avg = torch.sum(loss_epoch)/10\n",
        "      loss_hist[iter] = loss_avg\n",
        "      if (iter+1)%10 == 0 or iter == 0:\n",
        "        print('Iter [%d/%d] loss %.4f' %(iter+1, nIters, loss_avg))\n",
        "        \n",
        "    optimizer.zero_grad()\n",
        "    loss.backward()\n",
        "    optimizer.step()\n",
        "\n",
        "plt.plot(torch.arange(nIters),loss_hist.detach().numpy())\n",
        "plt.title(\"Training Loss\")"
      ],
      "execution_count": null,
      "outputs": []
    },
    {
      "cell_type": "code",
      "metadata": {
        "id": "iPGlnWGC5GiG"
      },
      "source": [
        "# torch.save(HGNet.state_dict(), \"/content/drive/My Drive/Face Alignment DRF/trained_models/Original_HGNet.pt\")"
      ],
      "execution_count": null,
      "outputs": []
    },
    {
      "cell_type": "markdown",
      "metadata": {
        "id": "gOfZegOP6e2P"
      },
      "source": [
        "# 4. Tune Training"
      ]
    },
    {
      "cell_type": "markdown",
      "metadata": {
        "id": "tkTz5sUQMLz0"
      },
      "source": [
        "## 4.1 Sample Set"
      ]
    },
    {
      "cell_type": "code",
      "metadata": {
        "colab": {
          "base_uri": "https://localhost:8080/"
        },
        "id": "WSHepin65GkR",
        "outputId": "492e5324-cc53-4988-e324-e37c6a661515"
      },
      "source": [
        "helen_sampleset = Helen_set(dataset_type=\"sample\",var=variance_gaussian)\n",
        "sample_dataloder = DataLoader(helen_sampleset, batch_size=20)\n",
        "helen_sampletest = Helen_set(dataset_type=\"sample_test\",var=variance_gaussian)\n",
        "sample_test_dataloder = DataLoader(helen_sampletest, batch_size=10)"
      ],
      "execution_count": 6,
      "outputs": [
        {
          "output_type": "stream",
          "text": [
            "Loading [1/200] pictures......\n",
            "Loading [100/200] pictures......\n",
            "Loading [200/200] pictures......\n",
            "Loading [1/30] pictures......\n"
          ],
          "name": "stdout"
        }
      ]
    },
    {
      "cell_type": "markdown",
      "metadata": {
        "id": "FPmmxXVJMR_X"
      },
      "source": [
        "## 4.2 Network"
      ]
    },
    {
      "cell_type": "code",
      "metadata": {
        "colab": {
          "base_uri": "https://localhost:8080/"
        },
        "id": "D21DDsQ068MT",
        "outputId": "9cca3f7a-7264-4c16-e27a-9ae5478b893d"
      },
      "source": [
        "Tune_HGNet = HGNet(tune=True).to(device)\n",
        "Tune_HGNet.load_state_dict(torch.load(\"/content/drive/My Drive/Face Alignment DRF/trained_models/Original_HGNet.pt\"))"
      ],
      "execution_count": 7,
      "outputs": [
        {
          "output_type": "execute_result",
          "data": {
            "text/plain": [
              "<All keys matched successfully>"
            ]
          },
          "metadata": {
            "tags": []
          },
          "execution_count": 7
        }
      ]
    },
    {
      "cell_type": "code",
      "metadata": {
        "id": "30y8lhvy7MdM"
      },
      "source": [
        "Tune_HGNet._HGNet__lin = nn.Sequential(nn.Conv2d(128,64,1),\n",
        "                    nn.BatchNorm2d(64),\n",
        "                    nn.ReLU(inplace=True),\n",
        "                    nn.MaxPool2d(4,4),  #(64,64,64)\n",
        "                    nn.Conv2d(64,16,1),\n",
        "                    nn.BatchNorm2d(16),\n",
        "                    nn.ReLU(inplace=True),\n",
        "                    nn.MaxPool2d(2,2),  #(16,32,32)\n",
        "                    nn.Conv2d(16,4,1),\n",
        "                    nn.BatchNorm2d(4),\n",
        "                    nn.ReLU(inplace=True),\n",
        "                    nn.MaxPool2d(2,2)).to(device)  #(4,16,16)\n",
        "\n",
        "Tune_HGNet._HGNet__tune = nn.Sequential(nn.Linear(4*16*16,num_fc)).to(device)"
      ],
      "execution_count": 8,
      "outputs": []
    },
    {
      "cell_type": "markdown",
      "metadata": {
        "id": "mGgtySrWMVOj"
      },
      "source": [
        "## 4.3 Training"
      ]
    },
    {
      "cell_type": "code",
      "metadata": {
        "id": "USHoLjFo5Gma"
      },
      "source": [
        "#######################\n",
        "# Initialization\n",
        "Total_train = 10\n",
        "\n",
        "# CNN initilization\n",
        "nIters = 1000\n",
        "\n",
        "criterion_MSE = torch.nn.MSELoss()\n",
        "criterion_KL = torch.nn.KLDivLoss()\n",
        "optimizer = optim.SGD(Tune_HGNet.parameters(), lr=0.01, momentum=0.9, weight_decay=1e-4)\n",
        "\n",
        "# Regression Tree parameters\n",
        "rf_Iters = 60"
      ],
      "execution_count": 9,
      "outputs": []
    },
    {
      "cell_type": "markdown",
      "metadata": {
        "id": "5XrhpzoaCBu6"
      },
      "source": [
        "### Training using L2 Loss"
      ]
    },
    {
      "cell_type": "code",
      "metadata": {
        "id": "2fIPVcxDBmW8"
      },
      "source": [
        "# Using L2 Loss\n",
        "\n",
        "time_initial = time.time()\n",
        "for round in range(Total_train):\n",
        "  time_start = time.time()\n",
        "  print(\"###########################################################\")\n",
        "  if torch.cuda.is_available():\n",
        "    print(\"Round [%d/%d], Using GPU\" %(round+1, Total_train))\n",
        "  else:\n",
        "    print(\"Round [%d/%d]\" %(round+1, Total_train))\n",
        "  \n",
        "  #####################################\n",
        "  ### Train Hourglass\n",
        "  ### eyes: [36:48]\n",
        "  #####################################\n",
        "  if round == 0:\n",
        "    leaf_q = torch.ones(num_leaf_nodes,12,256*256).to(device)/(256*256)\n",
        "    cnn_Iters = 30\n",
        "  else:\n",
        "    cnn_Iters = nIters\n",
        "\n",
        "  for iter in range(cnn_Iters):\n",
        "    loss_epoch = 0\n",
        "    for i, (x,_,y) in enumerate(sample_dataloder):\n",
        "      x = x.float().to(device)\n",
        "      x.requires_grad = True\n",
        "      y = y.float().to(device)\n",
        "      B = x.shape[0]\n",
        "\n",
        "      outputs = Tune_HGNet.forward(x)\n",
        "      cnn_prob = phi(outputs)\n",
        "      cnn_heatmaps = torch.matmul(cnn_prob,leaf_q.reshape(num_leaf_nodes,-1)).reshape(B,12,256,256)\n",
        "\n",
        "      # get mask for computing cnn loss\n",
        "      cnn_mask = get_mask(cnn_heatmaps,threshold=0.5)\n",
        "      loss = criterion_MSE(cnn_heatmaps*cnn_mask, y[:,36:48,:,:]*cnn_mask)\n",
        "      loss_epoch += loss.item()\n",
        "\n",
        "      optimizer.zero_grad()\n",
        "      loss.backward()\n",
        "      optimizer.step()\n",
        "  \n",
        "    if (iter+1)%20 == 0 or iter == 0:\n",
        "      print('     CNN training, Iter [%d/%d], loss_L2: %.8f' %(iter+1, cnn_Iters, loss_epoch*224*224*1e-1))\n",
        "\n",
        "  time_cnn = time.time()\n",
        "  print(\"     -----> CNN training time: ## %.2f mins ## \" %((time_cnn-time_start)/60))\n",
        "\n",
        "\n",
        "  #####################################\n",
        "  ### Train Regression Trees using pinv\n",
        "  #####################################\n",
        "  with torch.no_grad():\n",
        "    leaf_q_new = torch.zeros(num_leaf_nodes,12,256*256).to(device)\n",
        "    loss0 = 0\n",
        "\n",
        "    for i, (x,coord,y) in enumerate(sample_dataloder):\n",
        "      x = x.float().to(device)\n",
        "      y = y.float().to(device)\n",
        "      coord = coord.float().to(device)\n",
        "      B = x.shape[0]\n",
        "      y_expand = y[:,36:48,:,:].reshape(B,-1) #(200,12*256*256)\n",
        "\n",
        "      outputs = Tune_HGNet.forward(x)\n",
        "      cnn_prob = phi(outputs)\n",
        "\n",
        "      leaf_q_this = torch.matmul(torch.linalg.pinv(cnn_prob), y_expand) #(8,12*256*256)\n",
        "      leaf_q_new += leaf_q_this.reshape(num_leaf_nodes,12,-1)\n",
        "\n",
        "      pred_coord0 = find_coord(torch.matmul(cnn_prob,leaf_q_this.reshape(num_leaf_nodes,-1)))\n",
        "      loss0 += torch.sum(torch.abs(pred_coord0-coord[:,36:48,:].reshape(B,-1)))\n",
        "\n",
        "      \n",
        "    leaf_q = leaf_q/torch.sum(leaf_q, axis=2, keepdims=True)\n",
        "    \n",
        "    # Sharpen Leaf_q\n",
        "    # for nleaf in range(num_leaf_nodes):\n",
        "    #   for npoints in range(12):\n",
        "    #     leaf_q[nleaf,npoints,:][leaf_q[nleaf,npoints,:] <= torch.max(leaf_q[nleaf,npoints,:])*0.2] = 0\n",
        "    # leaf_q = leaf_q/torch.sum(leaf_q, axis=2, keepdims=True)\n",
        "    # leaf_q = leaf_q.reshape(num_leaf_nodes,-1)\n",
        "\n",
        "    print(\"     RF training, coordinate loss: %.4f\" %(loss0/10))\n",
        "\n",
        "  torch.save(Tune_HGNet.state_dict(), os.path.join(\"checkpoints/var_\"+str(variance_gaussian),\"Tune_HGNet_Loss_L2_dim\"+str(dim_tree)+\"_num\"+str(num_tree)+\"_Round\"+str(round)+'.pt'))\n",
        "  torch.save(leaf_q, os.path.join(\"checkpoints/var_\"+str(variance_gaussian),\"leaf_q_Loss_L2_dim\"+str(dim_tree)+\"_num\"+str(num_tree)+\"_Round\"+str(round)+'.pt'))\n",
        "\n",
        "  time_rf = time.time()\n",
        "  print(\"     -----> RF training time: ## %.2f mins ## \" %((time_rf-time_cnn)/60))\n",
        "  print(\"     -----> Training time for this round: ## %.2f mins ## \" %((time_rf-time_start)/60))\n",
        "\n",
        "# Finish Training\n",
        "torch.save(Tune_HGNet.state_dict(), os.path.join(\"checkpoints/var_\"+str(variance_gaussian),\"Tune_HGNet_Loss_L2_dim\"+str(dim_tree)+\"_num\"+str(num_tree)+\"_final.pt\"))\n",
        "torch.save(leaf_q, os.path.join(\"checkpoints/var_\"+str(variance_gaussian),\"leaf_q_Loss_L2_dim\"+str(dim_tree)+\"_num\"+str(num_tree)+\"_final.pt\"))\n",
        "\n",
        "time_end = time.time()\n",
        "print(\"-----> Total training time: ## %.2f hrs ## \" %((time_end-time_initial)/3600))\n",
        "\n"
      ],
      "execution_count": null,
      "outputs": []
    },
    {
      "cell_type": "markdown",
      "metadata": {
        "id": "mpz3XWVwCHFP"
      },
      "source": [
        "### Training using Log likelihood"
      ]
    },
    {
      "cell_type": "code",
      "metadata": {
        "id": "IQlah8DV_zX7"
      },
      "source": [
        "a = torch.zeros(2,3)"
      ],
      "execution_count": null,
      "outputs": []
    },
    {
      "cell_type": "code",
      "metadata": {
        "id": "_461u-Xc_zaG"
      },
      "source": [
        ""
      ],
      "execution_count": null,
      "outputs": []
    },
    {
      "cell_type": "code",
      "metadata": {
        "id": "qReLG9u4_zcZ"
      },
      "source": [
        ""
      ],
      "execution_count": null,
      "outputs": []
    },
    {
      "cell_type": "code",
      "metadata": {
        "id": "j-EsMk3q_zez"
      },
      "source": [
        ""
      ],
      "execution_count": null,
      "outputs": []
    },
    {
      "cell_type": "code",
      "metadata": {
        "id": "RwMl4_ws_zhK"
      },
      "source": [
        ""
      ],
      "execution_count": null,
      "outputs": []
    },
    {
      "cell_type": "code",
      "metadata": {
        "id": "6TVogH8u5Gob",
        "colab": {
          "base_uri": "https://localhost:8080/",
          "height": 1000
        },
        "outputId": "bebb76f7-f787-4981-eedd-15a6c06cd449"
      },
      "source": [
        "# update using log likelihood\n",
        "\n",
        "time_initial = time.time()\n",
        "for round in range(Total_train):\n",
        "  time_start = time.time()\n",
        "  print(\"############################################################################\")\n",
        "  if torch.cuda.is_available():\n",
        "    print(\"Round [%d/%d], Using GPU\" %(round+1, Total_train))\n",
        "  else:\n",
        "    print(\"Round [%d/%d]\" %(round+1, Total_train))\n",
        "\n",
        "  \n",
        "  ######################################################\n",
        "  ### Train Hourglass\n",
        "  ### eyes: [36:48]\n",
        "  ######################################################\n",
        "  if round == 0:\n",
        "    leaf_q = torch.ones(num_leaf_nodes,12,256*256).to(device)/(256*256)\n",
        "    cnn_Iters = 30\n",
        "  else:\n",
        "    cnn_Iters = nIters\n",
        "\n",
        "  for iter in range(cnn_Iters):\n",
        "    loss_epoch = 0\n",
        "    for i, (x,_,y) in enumerate(sample_dataloder):\n",
        "      x = x.float().to(device)\n",
        "      x.requires_grad = True\n",
        "      y = y.float().to(device)\n",
        "      B = x.shape[0]\n",
        "\n",
        "      outputs = Tune_HGNet.forward(x)\n",
        "      cnn_prob = phi(outputs, num_leaf_nodes, dim_tree, num_tree)\n",
        "\n",
        "      cnn_heatmaps = torch.matmul(cnn_prob,leaf_q.reshape(num_leaf_nodes,-1)).reshape(B*12,-1)\n",
        "      cnn_heatmaps = cnn_heatmaps/torch.sum(cnn_heatmaps,axis=1,keepdims=True)\n",
        "      label_heatmaps = y[:,36:48,:,:].reshape(B*12,-1)\n",
        "      label_heatmaps = label_heatmaps/torch.sum(label_heatmaps,axis=1,keepdims=True)\n",
        "\n",
        "      loss = -criterion_KL(cnn_heatmaps,label_heatmaps)\n",
        "      loss_epoch += loss.item()\n",
        "\n",
        "      optimizer.zero_grad()\n",
        "      loss.backward()\n",
        "      optimizer.step()\n",
        "\n",
        "    if (iter+1)%50 == 0 or iter == 0:\n",
        "      print('     CNN training, Iter [%d/%d], loss_KL: %.7f' %(iter+1, cnn_Iters, loss_epoch*224*224*1e-1))\n",
        "\n",
        "\n",
        "  time_cnn = time.time()\n",
        "  print(\"     -----> CNN training time: ## %.2f mins ## \" %((time_cnn-time_start)/60))\n",
        "\n",
        "  plt.imshow(cnn_heatmaps[0,:].reshape(256,256).detach().cpu())\n",
        "  plt.title(\"Round\"+str(round+1)+\"_CNN\")\n",
        "  plt.savefig(os.path.join(\"checkpoints/RF_Avg/var_\"+str(variance_gaussian),\"Loss_KL_dim\"+str(dim_tree)+\"_num\"+str(num_tree)+\"_Round\"+str(round+1)+\"_CNN.png\"))\n",
        "  plt.show()\n",
        "\n",
        "\n",
        "  ######################################################\n",
        "  ### Train Regression Trees using variational bounding\n",
        "  ######################################################\n",
        "  with torch.no_grad():\n",
        "    loss0 = 0\n",
        "\n",
        "    leaf_q = leaf_q.reshape(num_leaf_nodes,12,256*256)\n",
        "    next_leaf_q = torch.zeros(leaf_q.shape).to(device)\n",
        "\n",
        "    for i, (x,coord,y) in enumerate(sample_dataloder):\n",
        "      new_leaf_q = leaf_q.clone()\n",
        "      x = x.float().to(device)\n",
        "      y = y.float().to(device)\n",
        "      coord = coord.float().to(device)\n",
        "      B = x.shape[0]\n",
        "      y_expand = y[:,36:48,:,:].reshape(B,12,-1) #(200,12*256*256)\n",
        "\n",
        "      outputs = Tune_HGNet.forward(x)\n",
        "      cnn_prob = phi(outputs, num_leaf_nodes, dim_tree, num_tree)\n",
        "\n",
        "  \n",
        "      for rf_iter in range(rf_Iters):\n",
        "        for points_id in range(12):\n",
        "          new_leaf_q[:,points_id,:] = update_iter(new_leaf_q[:,points_id,:], cnn_prob, y_expand[:,points_id,:])\n",
        "        if ((i+1)%4 == 0 or i == 0) and ((rf_iter+1)%15 == 0 or rf_iter == 0):\n",
        "          rf_loss_CE = loss_ce(B, new_leaf_q, cnn_prob, y_expand, num_leaf_nodes)\n",
        "          print(\"     RF training, Batch %d, rf_iter [%d/%d], loss_KL: %.4f\" %(i+1, rf_iter+1, rf_Iters, rf_loss_CE*224*224))\n",
        "      next_leaf_q += new_leaf_q\n",
        "\n",
        "      pred_coord0 = find_coord(torch.matmul(cnn_prob,new_leaf_q.reshape(num_leaf_nodes,-1)))\n",
        "      loss0 += torch.sum(torch.abs(pred_coord0-coord[:,36:48,:].reshape(B,-1)))\n",
        "\n",
        "    # normalize\n",
        "    leaf_q = next_leaf_q/torch.sum(next_leaf_q,axis=2,keepdims=True)\n",
        "\n",
        "    # Sharpen Leaf_q\n",
        "    # leaf_q = leaf_q.reshape(num_leaf_nodes,12,256*256)\n",
        "    # for nleaf in range(num_leaf_nodes):\n",
        "    #   for npoints in range(12):\n",
        "    #     leaf_q[nleaf,npoints,:][leaf_q[nleaf,npoints,:] <= torch.max(leaf_q[nleaf,npoints,:])*0.2] = 0\n",
        "    # leaf_q = leaf_q/torch.sum(leaf_q, axis=2, keepdims=True)\n",
        "    # leaf_q = leaf_q.reshape(num_leaf_nodes,-1)\n",
        "\n",
        "\n",
        "    print(\"     RF training, coordinate loss: %.4f\" %(loss0/10))\n",
        "\n",
        "  rf_heatmaps = torch.matmul(cnn_prob,leaf_q.reshape(num_leaf_nodes,-1)).reshape(B*12,-1)\n",
        "  plt.imshow(rf_heatmaps[0,:].reshape(256,256).detach().cpu())\n",
        "  plt.title(\"Round\"+str(round+1)+\"_RF\")\n",
        "  plt.savefig(os.path.join(\"checkpoints/RF_Avg/var_\"+str(variance_gaussian),\"Loss_KL_dim\"+str(dim_tree)+\"_num\"+str(num_tree)+\"_Round\"+str(round+1)+\"_RF.png\"))\n",
        "  plt.show()\n",
        "\n",
        "  torch.save(Tune_HGNet.state_dict(), os.path.join(\"checkpoints/RF_Avg/var_\"+str(variance_gaussian),\"Tune_HGNet_Loss_KL_dim\"+str(dim_tree)+\"_num\"+str(num_tree)+\"_Round\"+str(round+1)+'.pt'))\n",
        "  torch.save(leaf_q, os.path.join(\"checkpoints/RF_Avg/var_\"+str(variance_gaussian),\"leaf_q_Loss_KL_dim\"+str(dim_tree)+\"_num\"+str(num_tree)+\"_Round\"+str(round+1)+'.pt'))\n",
        "\n",
        "  time_rf = time.time()\n",
        "  print(\"     -----> RF training time: ## %.2f mins ## \" %((time_rf-time_cnn)/60))\n",
        "  print(\"     -----> Training time for this round: ## %.2f mins ## \" %((time_rf-time_start)/60))\n",
        "\n",
        "# Finish Training\n",
        "torch.save(Tune_HGNet.state_dict(), os.path.join(\"checkpoints/RF_Avg/var_\"+str(variance_gaussian),\"Tune_HGNet_Loss_KL_dim\"+str(dim_tree)+\"_num\"+str(num_tree)+\"_final.pt\"))\n",
        "torch.save(leaf_q, os.path.join(\"checkpoints/RF_Avg/var_\"+str(variance_gaussian),\"leaf_q_Loss_KL_dim\"+str(dim_tree)+\"_num\"+str(num_tree)+\"_final.pt\"))\n",
        "\n",
        "time_end = time.time()\n",
        "print(\"-----> Total training time: ## %.2f hrs ## \" %((time_end-time_initial)/3600))"
      ],
      "execution_count": 10,
      "outputs": [
        {
          "output_type": "stream",
          "text": [
            "############################################################################\n",
            "Round [1/10], Using GPU\n",
            "     CNN training, Iter [1/30], loss_KL: 4.6369685\n",
            "     -----> CNN training time: ## 3.24 mins ## \n"
          ],
          "name": "stdout"
        },
        {
          "output_type": "display_data",
          "data": {
            "image/png": "[encoded data removed]",
            "text/plain": [
              "<Figure size 432x288 with 1 Axes>"
            ]
          },
          "metadata": {
            "tags": []
          }
        },
        {
          "output_type": "stream",
          "text": [
            "     RF training, Batch 1, rf_iter [1/60], loss_KL: 4.6376\n",
            "     RF training, Batch 1, rf_iter [15/60], loss_KL: 4.6376\n",
            "     RF training, Batch 1, rf_iter [30/60], loss_KL: 4.6377\n",
            "     RF training, Batch 1, rf_iter [45/60], loss_KL: 4.6377\n",
            "     RF training, Batch 1, rf_iter [60/60], loss_KL: 4.6377\n",
            "     RF training, Batch 4, rf_iter [1/60], loss_KL: 4.6375\n",
            "     RF training, Batch 4, rf_iter [15/60], loss_KL: 4.6376\n",
            "     RF training, Batch 4, rf_iter [30/60], loss_KL: 4.6376\n",
            "     RF training, Batch 4, rf_iter [45/60], loss_KL: 4.6376\n",
            "     RF training, Batch 4, rf_iter [60/60], loss_KL: 4.6376\n",
            "     RF training, Batch 8, rf_iter [1/60], loss_KL: 4.6376\n",
            "     RF training, Batch 8, rf_iter [15/60], loss_KL: 4.6376\n",
            "     RF training, Batch 8, rf_iter [30/60], loss_KL: 4.6376\n",
            "     RF training, Batch 8, rf_iter [45/60], loss_KL: 4.6377\n",
            "     RF training, Batch 8, rf_iter [60/60], loss_KL: 4.6377\n",
            "     RF training, coordinate loss: 5758.7891\n"
          ],
          "name": "stdout"
        },
        {
          "output_type": "display_data",
          "data": {
            "image/png": "[encoded data removed]",
            "text/plain": [
              "<Figure size 432x288 with 1 Axes>"
            ]
          },
          "metadata": {
            "tags": []
          }
        },
        {
          "output_type": "stream",
          "text": [
            "     -----> RF training time: ## 8.79 mins ## \n",
            "     -----> Training time for this round: ## 12.03 mins ## \n",
            "############################################################################\n",
            "Round [2/10], Using GPU\n",
            "     CNN training, Iter [1/1000], loss_KL: 4.6372122\n",
            "     CNN training, Iter [50/1000], loss_KL: 4.6372120\n",
            "     CNN training, Iter [100/1000], loss_KL: 4.6372119\n",
            "     CNN training, Iter [150/1000], loss_KL: 4.6372119\n",
            "     CNN training, Iter [200/1000], loss_KL: 4.6372116\n",
            "     CNN training, Iter [250/1000], loss_KL: 4.6372115\n",
            "     CNN training, Iter [300/1000], loss_KL: 4.6372113\n",
            "     CNN training, Iter [350/1000], loss_KL: 4.6372111\n",
            "     CNN training, Iter [400/1000], loss_KL: 4.6372109\n",
            "     CNN training, Iter [450/1000], loss_KL: 4.6372107\n",
            "     CNN training, Iter [500/1000], loss_KL: 4.6372107\n",
            "     CNN training, Iter [550/1000], loss_KL: 4.6372105\n",
            "     CNN training, Iter [600/1000], loss_KL: 4.6372103\n",
            "     CNN training, Iter [650/1000], loss_KL: 4.6372101\n",
            "     CNN training, Iter [700/1000], loss_KL: 4.6372100\n",
            "     CNN training, Iter [750/1000], loss_KL: 4.6372099\n",
            "     CNN training, Iter [800/1000], loss_KL: 4.6372098\n",
            "     CNN training, Iter [850/1000], loss_KL: 4.6372095\n",
            "     CNN training, Iter [900/1000], loss_KL: 4.6372093\n",
            "     CNN training, Iter [950/1000], loss_KL: 4.6372092\n",
            "     CNN training, Iter [1000/1000], loss_KL: 4.6372092\n",
            "     -----> CNN training time: ## 107.00 mins ## \n"
          ],
          "name": "stdout"
        },
        {
          "output_type": "display_data",
          "data": {
            "image/png": "[encoded data removed]",
            "text/plain": [
              "<Figure size 432x288 with 1 Axes>"
            ]
          },
          "metadata": {
            "tags": [],
            "needs_background": "light"
          }
        },
        {
          "output_type": "stream",
          "text": [
            "     RF training, Batch 1, rf_iter [1/60], loss_KL: 4.6376\n",
            "     RF training, Batch 1, rf_iter [15/60], loss_KL: 4.6376\n",
            "     RF training, Batch 1, rf_iter [30/60], loss_KL: 4.6376\n",
            "     RF training, Batch 1, rf_iter [45/60], loss_KL: 4.6376\n",
            "     RF training, Batch 1, rf_iter [60/60], loss_KL: 4.6376\n",
            "     RF training, Batch 4, rf_iter [1/60], loss_KL: 4.6375\n",
            "     RF training, Batch 4, rf_iter [15/60], loss_KL: 4.6376\n",
            "     RF training, Batch 4, rf_iter [30/60], loss_KL: 4.6376\n",
            "     RF training, Batch 4, rf_iter [45/60], loss_KL: 4.6376\n",
            "     RF training, Batch 4, rf_iter [60/60], loss_KL: 4.6376\n",
            "     RF training, Batch 8, rf_iter [1/60], loss_KL: 4.6376\n",
            "     RF training, Batch 8, rf_iter [15/60], loss_KL: 4.6376\n",
            "     RF training, Batch 8, rf_iter [30/60], loss_KL: 4.6376\n",
            "     RF training, Batch 8, rf_iter [45/60], loss_KL: 4.6376\n",
            "     RF training, Batch 8, rf_iter [60/60], loss_KL: 4.6376\n",
            "     RF training, coordinate loss: 6048.6304\n"
          ],
          "name": "stdout"
        },
        {
          "output_type": "display_data",
          "data": {
            "image/png": "[encoded data removed]",
            "text/plain": [
              "<Figure size 432x288 with 1 Axes>"
            ]
          },
          "metadata": {
            "tags": [],
            "needs_background": "light"
          }
        },
        {
          "output_type": "stream",
          "text": [
            "     -----> RF training time: ## 8.70 mins ## \n",
            "     -----> Training time for this round: ## 115.70 mins ## \n",
            "############################################################################\n",
            "Round [3/10], Using GPU\n",
            "     CNN training, Iter [1/1000], loss_KL: 4.6372103\n",
            "     CNN training, Iter [50/1000], loss_KL: 4.6372102\n",
            "     CNN training, Iter [100/1000], loss_KL: 4.6372101\n",
            "     CNN training, Iter [150/1000], loss_KL: 4.6372099\n",
            "     CNN training, Iter [200/1000], loss_KL: 4.6372097\n",
            "     CNN training, Iter [250/1000], loss_KL: 4.6372096\n",
            "     CNN training, Iter [300/1000], loss_KL: 4.6372094\n",
            "     CNN training, Iter [350/1000], loss_KL: 4.6372093\n",
            "     CNN training, Iter [400/1000], loss_KL: 4.6372092\n",
            "     CNN training, Iter [450/1000], loss_KL: 4.6372089\n",
            "     CNN training, Iter [500/1000], loss_KL: 4.6372089\n",
            "     CNN training, Iter [550/1000], loss_KL: 4.6372087\n",
            "     CNN training, Iter [600/1000], loss_KL: 4.6372086\n",
            "     CNN training, Iter [650/1000], loss_KL: 4.6372084\n",
            "     CNN training, Iter [700/1000], loss_KL: 4.6372084\n",
            "     CNN training, Iter [750/1000], loss_KL: 4.6372082\n",
            "     CNN training, Iter [800/1000], loss_KL: 4.6372080\n",
            "     CNN training, Iter [850/1000], loss_KL: 4.6372079\n",
            "     CNN training, Iter [900/1000], loss_KL: 4.6372077\n",
            "     CNN training, Iter [950/1000], loss_KL: 4.6372076\n",
            "     CNN training, Iter [1000/1000], loss_KL: 4.6372074\n",
            "     -----> CNN training time: ## 105.12 mins ## \n"
          ],
          "name": "stdout"
        },
        {
          "output_type": "display_data",
          "data": {
            "image/png": "[encoded data removed]",
            "text/plain": [
              "<Figure size 432x288 with 1 Axes>"
            ]
          },
          "metadata": {
            "tags": [],
            "needs_background": "light"
          }
        },
        {
          "output_type": "stream",
          "text": [
            "     RF training, Batch 1, rf_iter [1/60], loss_KL: 4.6376\n",
            "     RF training, Batch 1, rf_iter [15/60], loss_KL: 4.6376\n",
            "     RF training, Batch 1, rf_iter [30/60], loss_KL: 4.6376\n",
            "     RF training, Batch 1, rf_iter [45/60], loss_KL: 4.6376\n",
            "     RF training, Batch 1, rf_iter [60/60], loss_KL: 4.6376\n",
            "     RF training, Batch 4, rf_iter [1/60], loss_KL: 4.6375\n",
            "     RF training, Batch 4, rf_iter [15/60], loss_KL: 4.6376\n",
            "     RF training, Batch 4, rf_iter [30/60], loss_KL: 4.6376\n",
            "     RF training, Batch 4, rf_iter [45/60], loss_KL: 4.6376\n",
            "     RF training, Batch 4, rf_iter [60/60], loss_KL: 4.6376\n",
            "     RF training, Batch 8, rf_iter [1/60], loss_KL: 4.6376\n",
            "     RF training, Batch 8, rf_iter [15/60], loss_KL: 4.6376\n",
            "     RF training, Batch 8, rf_iter [30/60], loss_KL: 4.6376\n",
            "     RF training, Batch 8, rf_iter [45/60], loss_KL: 4.6376\n",
            "     RF training, Batch 8, rf_iter [60/60], loss_KL: 4.6376\n",
            "     RF training, coordinate loss: 6311.0317\n"
          ],
          "name": "stdout"
        },
        {
          "output_type": "display_data",
          "data": {
            "image/png": "[encoded data removed]",
            "text/plain": [
              "<Figure size 432x288 with 1 Axes>"
            ]
          },
          "metadata": {
            "tags": [],
            "needs_background": "light"
          }
        },
        {
          "output_type": "stream",
          "text": [
            "     -----> RF training time: ## 8.72 mins ## \n",
            "     -----> Training time for this round: ## 113.84 mins ## \n",
            "############################################################################\n",
            "Round [4/10], Using GPU\n",
            "     CNN training, Iter [1/1000], loss_KL: 4.6372080\n",
            "     CNN training, Iter [50/1000], loss_KL: 4.6372079\n",
            "     CNN training, Iter [100/1000], loss_KL: 4.6372076\n",
            "     CNN training, Iter [150/1000], loss_KL: 4.6372075\n",
            "     CNN training, Iter [200/1000], loss_KL: 4.6372073\n",
            "     CNN training, Iter [250/1000], loss_KL: 4.6372073\n",
            "     CNN training, Iter [300/1000], loss_KL: 4.6372071\n",
            "     CNN training, Iter [350/1000], loss_KL: 4.6372071\n",
            "     CNN training, Iter [400/1000], loss_KL: 4.6372070\n",
            "     CNN training, Iter [450/1000], loss_KL: 4.6372069\n",
            "     CNN training, Iter [500/1000], loss_KL: 4.6372069\n",
            "     CNN training, Iter [550/1000], loss_KL: 4.6372067\n",
            "     CNN training, Iter [600/1000], loss_KL: 4.6372065\n",
            "     CNN training, Iter [650/1000], loss_KL: 4.6372064\n",
            "     CNN training, Iter [700/1000], loss_KL: 4.6372062\n",
            "     CNN training, Iter [750/1000], loss_KL: 4.6372062\n"
          ],
          "name": "stdout"
        },
        {
          "output_type": "error",
          "ename": "KeyboardInterrupt",
          "evalue": "ignored",
          "traceback": [
            "\u001b[0;31m---------------------------------------------------------------------------\u001b[0m",
            "\u001b[0;31mKeyboardInterrupt\u001b[0m                         Traceback (most recent call last)",
            "\u001b[0;32m<ipython-input-10-8918f9ad4f1c>\u001b[0m in \u001b[0;36m<module>\u001b[0;34m()\u001b[0m\n\u001b[1;32m     41\u001b[0m \u001b[0;34m\u001b[0m\u001b[0m\n\u001b[1;32m     42\u001b[0m       \u001b[0moptimizer\u001b[0m\u001b[0;34m.\u001b[0m\u001b[0mzero_grad\u001b[0m\u001b[0;34m(\u001b[0m\u001b[0;34m)\u001b[0m\u001b[0;34m\u001b[0m\u001b[0;34m\u001b[0m\u001b[0m\n\u001b[0;32m---> 43\u001b[0;31m       \u001b[0mloss\u001b[0m\u001b[0;34m.\u001b[0m\u001b[0mbackward\u001b[0m\u001b[0;34m(\u001b[0m\u001b[0;34m)\u001b[0m\u001b[0;34m\u001b[0m\u001b[0;34m\u001b[0m\u001b[0m\n\u001b[0m\u001b[1;32m     44\u001b[0m       \u001b[0moptimizer\u001b[0m\u001b[0;34m.\u001b[0m\u001b[0mstep\u001b[0m\u001b[0;34m(\u001b[0m\u001b[0;34m)\u001b[0m\u001b[0;34m\u001b[0m\u001b[0;34m\u001b[0m\u001b[0m\n\u001b[1;32m     45\u001b[0m \u001b[0;34m\u001b[0m\u001b[0m\n",
            "\u001b[0;32m/usr/local/lib/python3.7/dist-packages/torch/_tensor.py\u001b[0m in \u001b[0;36mbackward\u001b[0;34m(self, gradient, retain_graph, create_graph, inputs)\u001b[0m\n\u001b[1;32m    253\u001b[0m                 \u001b[0mcreate_graph\u001b[0m\u001b[0;34m=\u001b[0m\u001b[0mcreate_graph\u001b[0m\u001b[0;34m,\u001b[0m\u001b[0;34m\u001b[0m\u001b[0;34m\u001b[0m\u001b[0m\n\u001b[1;32m    254\u001b[0m                 inputs=inputs)\n\u001b[0;32m--> 255\u001b[0;31m         \u001b[0mtorch\u001b[0m\u001b[0;34m.\u001b[0m\u001b[0mautograd\u001b[0m\u001b[0;34m.\u001b[0m\u001b[0mbackward\u001b[0m\u001b[0;34m(\u001b[0m\u001b[0mself\u001b[0m\u001b[0;34m,\u001b[0m \u001b[0mgradient\u001b[0m\u001b[0;34m,\u001b[0m \u001b[0mretain_graph\u001b[0m\u001b[0;34m,\u001b[0m \u001b[0mcreate_graph\u001b[0m\u001b[0;34m,\u001b[0m \u001b[0minputs\u001b[0m\u001b[0;34m=\u001b[0m\u001b[0minputs\u001b[0m\u001b[0;34m)\u001b[0m\u001b[0;34m\u001b[0m\u001b[0;34m\u001b[0m\u001b[0m\n\u001b[0m\u001b[1;32m    256\u001b[0m \u001b[0;34m\u001b[0m\u001b[0m\n\u001b[1;32m    257\u001b[0m     \u001b[0;32mdef\u001b[0m \u001b[0mregister_hook\u001b[0m\u001b[0;34m(\u001b[0m\u001b[0mself\u001b[0m\u001b[0;34m,\u001b[0m \u001b[0mhook\u001b[0m\u001b[0;34m)\u001b[0m\u001b[0;34m:\u001b[0m\u001b[0;34m\u001b[0m\u001b[0;34m\u001b[0m\u001b[0m\n",
            "\u001b[0;32m/usr/local/lib/python3.7/dist-packages/torch/autograd/__init__.py\u001b[0m in \u001b[0;36mbackward\u001b[0;34m(tensors, grad_tensors, retain_graph, create_graph, grad_variables, inputs)\u001b[0m\n\u001b[1;32m    147\u001b[0m     Variable._execution_engine.run_backward(\n\u001b[1;32m    148\u001b[0m         \u001b[0mtensors\u001b[0m\u001b[0;34m,\u001b[0m \u001b[0mgrad_tensors_\u001b[0m\u001b[0;34m,\u001b[0m \u001b[0mretain_graph\u001b[0m\u001b[0;34m,\u001b[0m \u001b[0mcreate_graph\u001b[0m\u001b[0;34m,\u001b[0m \u001b[0minputs\u001b[0m\u001b[0;34m,\u001b[0m\u001b[0;34m\u001b[0m\u001b[0;34m\u001b[0m\u001b[0m\n\u001b[0;32m--> 149\u001b[0;31m         allow_unreachable=True, accumulate_grad=True)  # allow_unreachable flag\n\u001b[0m\u001b[1;32m    150\u001b[0m \u001b[0;34m\u001b[0m\u001b[0m\n\u001b[1;32m    151\u001b[0m \u001b[0;34m\u001b[0m\u001b[0m\n",
            "\u001b[0;31mKeyboardInterrupt\u001b[0m: "
          ]
        }
      ]
    },
    {
      "cell_type": "markdown",
      "metadata": {
        "id": "8EeDVC4n4l_O"
      },
      "source": [
        "## 4.4 Test"
      ]
    },
    {
      "cell_type": "markdown",
      "metadata": {
        "id": "Thgdc-wEzmgX"
      },
      "source": [
        "### Restore from saved weights"
      ]
    },
    {
      "cell_type": "code",
      "metadata": {
        "id": "vs7Xwkkja7B9"
      },
      "source": [
        "Tune_HGNet = HGNet(tune=True).to(device)\n",
        "Tune_HGNet._HGNet__lin = nn.Sequential(nn.Conv2d(128,64,1),\n",
        "                    nn.BatchNorm2d(64),\n",
        "                    nn.ReLU(inplace=True),\n",
        "                    nn.MaxPool2d(4,4),  #(64,64,64)\n",
        "                    nn.Conv2d(64,16,1),\n",
        "                    nn.BatchNorm2d(16),\n",
        "                    nn.ReLU(inplace=True),\n",
        "                    nn.MaxPool2d(2,2),  #(16,32,32)\n",
        "                    nn.Conv2d(16,4,1),\n",
        "                    nn.BatchNorm2d(4),\n",
        "                    nn.ReLU(inplace=True),\n",
        "                    nn.MaxPool2d(2,2)).to(device)  #(4,16,16)\n",
        "\n",
        "Tune_HGNet._HGNet__tune = nn.Sequential(nn.Linear(4*16*16,num_fc)).to(device)\n",
        "\n",
        "Tune_HGNet.load_state_dict(torch.load(os.path.join(\"checkpoints/var_\"+str(variance_gaussian),\"Tune_HGNet_Loss_KL_dim\"+str(dim_tree)+\"_num\"+str(num_tree)+\"_Round1.pt\")))\n",
        "leaf_q = torch.load(os.path.join(\"checkpoints/var_\"+str(variance_gaussian),\"leaf_q_Loss_KL_dim\"+str(dim_tree)+\"_num\"+str(num_tree)+\"_Round1.pt\"))"
      ],
      "execution_count": null,
      "outputs": []
    },
    {
      "cell_type": "code",
      "metadata": {
        "id": "MG3xsCz9cijw"
      },
      "source": [
        "import torchsummary\n",
        "def count_parameters(model):\n",
        "  return sum(p.numel() for p in model.parameters() if p.requires_grad)\n",
        "torchsummary.summary(Tune_HGNet, (3,256,256))\n",
        "print('parameters_count:',count_parameters(Tune_HGNet))"
      ],
      "execution_count": null,
      "outputs": []
    },
    {
      "cell_type": "markdown",
      "metadata": {
        "id": "_o5i1wavzskb"
      },
      "source": [
        "### Test"
      ]
    },
    {
      "cell_type": "code",
      "metadata": {
        "id": "vzqC6QRF6FS4"
      },
      "source": [
        "heatmap_loss, coord_loss = 0, 0\n",
        "Tune_HGNet.eval()\n",
        "criterion = torch.nn.MSELoss()\n",
        "\n",
        "for i, (img,coord,hm) in enumerate(sample_test_dataloder):\n",
        "  img = img.float().to(device)\n",
        "  img.requires_grad = True\n",
        "  coord = coord.float().to(device)\n",
        "  hm = hm.float().to(device)\n",
        "  B = img.shape[0]\n",
        "  \n",
        "  outputs = Tune_HGNet.forward(img)\n",
        "  cnn_prob = phi(outputs, num_leaf_nodes, dim_tree, num_tree)\n",
        "  pred_heatmaps = torch.matmul(cnn_prob,leaf_q.reshape(num_leaf_nodes,-1)) #(15,12*256*256)\n",
        "  pred_coords = find_coord(pred_heatmaps) #(15,12*2)\n",
        "\n",
        "  heatmap_loss += criterion(pred_heatmaps, hm[:,36:48,:,:].reshape(B,-1))\n",
        "  coord_loss += torch.sum(torch.abs(pred_coords-coord[:,36:48,:].reshape(B,-1)))\n",
        "\n",
        "print(\"Heatmap loss %.8f, Coord loss %.4f\" %(heatmap_loss/10, coord_loss/10))"
      ],
      "execution_count": null,
      "outputs": []
    },
    {
      "cell_type": "code",
      "metadata": {
        "id": "s4C1EOs4GBOH"
      },
      "source": [
        "phi(outputs, num_leaf_nodes, dim_tree, num_tree)[0:5,:]"
      ],
      "execution_count": null,
      "outputs": []
    },
    {
      "cell_type": "code",
      "metadata": {
        "id": "xsF0wqqoI9T8"
      },
      "source": [
        "for ith in range(8):\n",
        "  x = pred_coords[ith,::2].detach().cpu()\n",
        "  y = pred_coords[ith,1::2].detach().cpu()\n",
        "  plt.scatter(x,256-y,label=\"Prediction %d\" %ith)\n",
        "\n",
        "  plt.legend(loc='lower left')\n",
        "  plt.xlim(0,256)\n",
        "  plt.ylim(0,256)"
      ],
      "execution_count": null,
      "outputs": []
    },
    {
      "cell_type": "code",
      "metadata": {
        "id": "-LbZvjv34pD-"
      },
      "source": [
        "ith = 0\n",
        "\n",
        "x = pred_coords[ith,::2].detach().cpu()\n",
        "y = pred_coords[ith,1::2].detach().cpu()\n",
        "plt.scatter(x,256-y,label=\"Prediction\")\n",
        "\n",
        "x2 = coord[ith,36:48,0].detach().cpu()\n",
        "y2 = coord[ith,36:48,1].detach().cpu()\n",
        "plt.scatter(x2,256-y2,label=\"GT\")\n",
        "\n",
        "plt.legend(loc='lower left')\n",
        "plt.xlim(0,256)\n",
        "plt.ylim(0,256)"
      ],
      "execution_count": null,
      "outputs": []
    },
    {
      "cell_type": "code",
      "metadata": {
        "id": "WhwEFEehR7TW"
      },
      "source": [
        "ith = 1\n",
        "\n",
        "x = pred_coords[ith,::2].detach().cpu()\n",
        "y = pred_coords[ith,1::2].detach().cpu()\n",
        "plt.scatter(x,256-y,label=\"Prediction\")\n",
        "\n",
        "x2 = coord[ith,36:48,0].detach().cpu()\n",
        "y2 = coord[ith,36:48,1].detach().cpu()\n",
        "plt.scatter(x2,256-y2,label=\"GT\")\n",
        "\n",
        "plt.legend(loc='lower left')\n",
        "plt.xlim(0,256)\n",
        "plt.ylim(0,256)"
      ],
      "execution_count": null,
      "outputs": []
    },
    {
      "cell_type": "code",
      "metadata": {
        "id": "01fgyAZCR7ep"
      },
      "source": [
        "ith = 2\n",
        "\n",
        "x = pred_coords[ith,::2].detach().cpu()\n",
        "y = pred_coords[ith,1::2].detach().cpu()\n",
        "plt.scatter(x,256-y,label=\"Prediction\")\n",
        "\n",
        "x2 = coord[ith,36:48,0].detach().cpu()\n",
        "y2 = coord[ith,36:48,1].detach().cpu()\n",
        "plt.scatter(x2,256-y2,label=\"GT\")\n",
        "\n",
        "plt.legend(loc='lower left')\n",
        "plt.xlim(0,256)\n",
        "plt.ylim(0,256)"
      ],
      "execution_count": null,
      "outputs": []
    },
    {
      "cell_type": "code",
      "metadata": {
        "id": "2I-LMrZ6R7ku"
      },
      "source": [
        "ith = 3\n",
        "\n",
        "x = pred_coords[ith,::2].detach().cpu()\n",
        "y = pred_coords[ith,1::2].detach().cpu()\n",
        "plt.scatter(x,256-y,label=\"Prediction\")\n",
        "\n",
        "x2 = coord[ith,36:48,0].detach().cpu()\n",
        "y2 = coord[ith,36:48,1].detach().cpu()\n",
        "plt.scatter(x2,256-y2,label=\"GT\")\n",
        "\n",
        "plt.legend(loc='lower left')\n",
        "plt.xlim(0,256)\n",
        "plt.ylim(0,256)"
      ],
      "execution_count": null,
      "outputs": []
    },
    {
      "cell_type": "code",
      "metadata": {
        "id": "zWHr69U1R7nl"
      },
      "source": [
        "ith = 4\n",
        "\n",
        "x = pred_coords[ith,::2].detach().cpu()\n",
        "y = pred_coords[ith,1::2].detach().cpu()\n",
        "plt.scatter(x,256-y,label=\"Prediction\")\n",
        "\n",
        "x2 = coord[ith,36:48,0].detach().cpu()\n",
        "y2 = coord[ith,36:48,1].detach().cpu()\n",
        "plt.scatter(x2,256-y2,label=\"GT\")\n",
        "\n",
        "plt.legend(loc='lower left')\n",
        "plt.xlim(0,256)\n",
        "plt.ylim(0,256)"
      ],
      "execution_count": null,
      "outputs": []
    },
    {
      "cell_type": "code",
      "metadata": {
        "id": "px_vSVmlR7qc"
      },
      "source": [
        "ith = 5\n",
        "\n",
        "x = pred_coords[ith,::2].detach().cpu()\n",
        "y = pred_coords[ith,1::2].detach().cpu()\n",
        "plt.scatter(x,256-y,label=\"Prediction\")\n",
        "\n",
        "x2 = coord[ith,36:48,0].detach().cpu()\n",
        "y2 = coord[ith,36:48,1].detach().cpu()\n",
        "plt.scatter(x2,256-y2,label=\"GT\")\n",
        "\n",
        "plt.legend(loc='lower left')\n",
        "plt.xlim(0,256)\n",
        "plt.ylim(0,256)"
      ],
      "execution_count": null,
      "outputs": []
    },
    {
      "cell_type": "code",
      "metadata": {
        "id": "pfAyqk95R7s0"
      },
      "source": [
        "ith = 6\n",
        "\n",
        "x = pred_coords[ith,::2].detach().cpu()\n",
        "y = pred_coords[ith,1::2].detach().cpu()\n",
        "plt.scatter(x,256-y,label=\"Prediction\")\n",
        "\n",
        "x2 = coord[ith,36:48,0].detach().cpu()\n",
        "y2 = coord[ith,36:48,1].detach().cpu()\n",
        "plt.scatter(x2,256-y2,label=\"GT\")\n",
        "\n",
        "plt.legend(loc='lower left')\n",
        "plt.xlim(0,256)\n",
        "plt.ylim(0,256)"
      ],
      "execution_count": null,
      "outputs": []
    },
    {
      "cell_type": "code",
      "metadata": {
        "id": "E1CX-Mg5R7va"
      },
      "source": [
        "ith = 7\n",
        "\n",
        "x = pred_coords[ith,::2].detach().cpu()\n",
        "y = pred_coords[ith,1::2].detach().cpu()\n",
        "plt.scatter(x,256-y,label=\"Prediction\")\n",
        "\n",
        "x2 = coord[ith,36:48,0].detach().cpu()\n",
        "y2 = coord[ith,36:48,1].detach().cpu()\n",
        "plt.scatter(x2,256-y2,label=\"GT\")\n",
        "\n",
        "plt.legend(loc='lower left')\n",
        "plt.xlim(0,256)\n",
        "plt.ylim(0,256)"
      ],
      "execution_count": null,
      "outputs": []
    },
    {
      "cell_type": "code",
      "metadata": {
        "id": "1DRTjKI84pIQ"
      },
      "source": [
        "plot_heatmaps = pred_heatmaps.reshape(B,12,256,256).detach().cpu()\n",
        "plot_heatmaps_all = torch.sum(plot_heatmaps,axis=1)\n",
        "plt.imshow(plot_heatmaps_all[ith,:,:])"
      ],
      "execution_count": null,
      "outputs": []
    },
    {
      "cell_type": "code",
      "metadata": {
        "id": "EVgL9DQj7D16"
      },
      "source": [
        "# one point\n",
        "plt.imshow(plot_heatmaps[ith,0,:,:])"
      ],
      "execution_count": null,
      "outputs": []
    },
    {
      "cell_type": "code",
      "metadata": {
        "id": "vY7qPeV4bWKn"
      },
      "source": [
        "plt.imshow(leaf_q.reshape(num_leaf_nodes,12,256,256)[0,0,:,:].detach().cpu())"
      ],
      "execution_count": null,
      "outputs": []
    },
    {
      "cell_type": "code",
      "metadata": {
        "id": "knNshAfIC_66"
      },
      "source": [
        "plt.imshow(leaf_q.reshape(num_leaf_nodes,12,256,256)[1,0,:,:].detach().cpu())"
      ],
      "execution_count": null,
      "outputs": []
    },
    {
      "cell_type": "code",
      "metadata": {
        "id": "8FN_M1-qSLVc"
      },
      "source": [
        "plt.imshow(leaf_q.reshape(num_leaf_nodes,12,256,256)[2,0,:,:].detach().cpu())"
      ],
      "execution_count": null,
      "outputs": []
    },
    {
      "cell_type": "code",
      "metadata": {
        "id": "555UwW3PSLYU"
      },
      "source": [
        "plt.imshow(leaf_q.reshape(num_leaf_nodes,12,256,256)[3,0,:,:].detach().cpu())"
      ],
      "execution_count": null,
      "outputs": []
    },
    {
      "cell_type": "code",
      "metadata": {
        "id": "ENZY4x3ISLbD"
      },
      "source": [
        "plt.imshow(leaf_q.reshape(num_leaf_nodes,12,256,256)[4,0,:,:].detach().cpu())"
      ],
      "execution_count": null,
      "outputs": []
    },
    {
      "cell_type": "code",
      "metadata": {
        "id": "aQn9iqMiSLeS"
      },
      "source": [
        "plt.imshow(leaf_q.reshape(num_leaf_nodes,12,256,256)[5,0,:,:].detach().cpu())"
      ],
      "execution_count": null,
      "outputs": []
    },
    {
      "cell_type": "code",
      "metadata": {
        "id": "KKUpxW2j4pOr"
      },
      "source": [
        "image = torch.sum(hm, axis=1).detach().cpu()\n",
        "plt.imshow(image[ith,:,:])"
      ],
      "execution_count": null,
      "outputs": []
    },
    {
      "cell_type": "code",
      "metadata": {
        "id": "pLaQ4ZR44pQy"
      },
      "source": [
        "plt.imshow(img[ith,:,:,:].detach().cpu().permute(1,2,0).int())"
      ],
      "execution_count": null,
      "outputs": []
    },
    {
      "cell_type": "code",
      "metadata": {
        "id": "P1iaeeFp6FVR"
      },
      "source": [
        ""
      ],
      "execution_count": null,
      "outputs": []
    },
    {
      "cell_type": "code",
      "metadata": {
        "id": "ep1i7rO7XpVh"
      },
      "source": [
        ""
      ],
      "execution_count": null,
      "outputs": []
    },
    {
      "cell_type": "code",
      "metadata": {
        "id": "Z2C-MbCgX3_C"
      },
      "source": [
        ""
      ],
      "execution_count": null,
      "outputs": []
    },
    {
      "cell_type": "code",
      "metadata": {
        "id": "hHPE8TpsYGon"
      },
      "source": [
        ""
      ],
      "execution_count": null,
      "outputs": []
    },
    {
      "cell_type": "code",
      "metadata": {
        "id": "lpKo-3dUYVSS"
      },
      "source": [
        ""
      ],
      "execution_count": null,
      "outputs": []
    },
    {
      "cell_type": "code",
      "metadata": {
        "id": "MHQwICxYYj7_"
      },
      "source": [
        ""
      ],
      "execution_count": null,
      "outputs": []
    },
    {
      "cell_type": "code",
      "metadata": {
        "id": "cO9Q7X0WYylq"
      },
      "source": [
        ""
      ],
      "execution_count": null,
      "outputs": []
    },
    {
      "cell_type": "code",
      "metadata": {
        "id": "eLceOOCgZBPX"
      },
      "source": [
        ""
      ],
      "execution_count": null,
      "outputs": []
    },
    {
      "cell_type": "code",
      "metadata": {
        "id": "CXbSxytZZei5"
      },
      "source": [
        ""
      ],
      "execution_count": null,
      "outputs": []
    }
  ]
}