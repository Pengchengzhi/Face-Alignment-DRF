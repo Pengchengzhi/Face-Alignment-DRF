{
  "nbformat": 4,
  "nbformat_minor": 0,
  "metadata": {
    "colab": {
      "name": "DataPreprocessing.ipynb",
      "provenance": [],
      "collapsed_sections": [
        "XtCqvV_Ifi3t"
      ],
      "include_colab_link": true
    },
    "kernelspec": {
      "display_name": "Python 3",
      "name": "python3"
    },
    "language_info": {
      "name": "python"
    }
  },
  "cells": [
    {
      "cell_type": "markdown",
      "metadata": {
        "id": "view-in-github",
        "colab_type": "text"
      },
      "source": [
        "<a href=\"https://colab.research.google.com/github/Pengchengzhi/Face-Alignment-DRF/blob/main/DataPreprocessing.ipynb\" target=\"_parent\"><img src=\"https://colab.research.google.com/assets/colab-badge.svg\" alt=\"Open In Colab\"/></a>"
      ]
    },
    {
      "cell_type": "markdown",
      "metadata": {
        "id": "XtCqvV_Ifi3t"
      },
      "source": [
        "# Import Packages"
      ]
    },
    {
      "cell_type": "code",
      "metadata": {
        "colab": {
          "base_uri": "https://localhost:8080/"
        },
        "id": "G7AWbYBGOIYZ",
        "outputId": "8c2cdec1-0eff-4023-a361-7180759442d8"
      },
      "source": [
        "from google.colab import drive\n",
        "drive.mount(\"/content/drive\")\n",
        "\n",
        "import os\n",
        "path=\"/content/drive/My Drive/Face Alignment DRF\"\n",
        "os.chdir(path)\n",
        "#os.listdir(path)"
      ],
      "execution_count": 1,
      "outputs": [
        {
          "output_type": "stream",
          "text": [
            "Mounted at /content/drive\n"
          ],
          "name": "stdout"
        }
      ]
    },
    {
      "cell_type": "code",
      "metadata": {
        "id": "yvZL4a0nOSCd"
      },
      "source": [
        "import numpy as np\n",
        "import matplotlib.pyplot as plt\n",
        "import argparse, os, sys\n",
        "import cv2\n",
        "from PIL import Image\n",
        "import json\n",
        "import pandas as pd\n",
        "from utils.dataprocess import *\n",
        "\n",
        "dataset_helen_train_path=\"datasets/helen/trainset\"\n",
        "dataset_helen_test_path=\"datasets/helen/testset\""
      ],
      "execution_count": 2,
      "outputs": []
    },
    {
      "cell_type": "markdown",
      "metadata": {
        "id": "IeLuzNV9fpRY"
      },
      "source": [
        "# Load Annotations from original dataset"
      ]
    },
    {
      "cell_type": "code",
      "metadata": {
        "id": "g4-a8HDEOSE7"
      },
      "source": [
        "# https://github.com/musyoku/face-alignment-at-3000fps/blob/master/run/train.py\n",
        "\n",
        "# def load_annotations(directory):\n",
        "#   annotations = {}\n",
        "#   fs = os.listdir(directory)\n",
        "#   number = 0\n",
        "#   for filename in fs:\n",
        "#     if filename.endswith(\".pts\"):\n",
        "#       with open(os.path.join(directory, filename), \"r\") as f:\n",
        "#         annotation = f.read().strip().split(\"\\n\")\n",
        "# \t\t\t\t#assert len(annotation) == 72\n",
        "#         landmarks = []\n",
        "#         for location_str in annotation[3:-1]:\n",
        "#           location = location_str.split(\" \")\n",
        "#           landmarks.append((float(location[0]), float(location[1])))\n",
        "#         annotations[filename.replace(\".pts\", \"\")] = landmarks\n",
        "#       number += 1\n",
        "#       if number % 100 == 0:\n",
        "#         print('Processing... ',number,'/',int(len(fs)/2))\n",
        "#   return annotations"
      ],
      "execution_count": 3,
      "outputs": []
    },
    {
      "cell_type": "code",
      "metadata": {
        "id": "Sf4nTWwTWtx5"
      },
      "source": [
        "# Load annotations form .pts file\n",
        "\n",
        "# annotations_helen_train = load_annotations(dataset_helen_train_path)\n",
        "# annotations_helen_test = load_annotations(dataset_helen_test_path)"
      ],
      "execution_count": 4,
      "outputs": []
    },
    {
      "cell_type": "code",
      "metadata": {
        "id": "ccpVPNN5Oz9d"
      },
      "source": [
        "# Save work in js format\n",
        "\n",
        "# helen_train_js = json.dumps(annotations_helen_train)  \n",
        "# helen_test_js = json.dumps(annotations_helen_test)  \n",
        "# fileObject = open('datasets/helen/helen_train_pts.json', 'w')  \n",
        "# fileObject.write(helen_train_js)  \n",
        "# fileObject.close()\n",
        "# fileObject = open('datasets/helen/helen_test_pts.json', 'w')  \n",
        "# fileObject.write(helen_test_js)  \n",
        "# fileObject.close() "
      ],
      "execution_count": 5,
      "outputs": []
    },
    {
      "cell_type": "code",
      "metadata": {
        "id": "XRfDodQeOz_z"
      },
      "source": [
        "with open(\"datasets/helen/helen_train_pts.json\",'r') as htrain:\n",
        "  htrain_pts = json.load(htrain)\n",
        "with open(\"datasets/helen/helen_test_pts.json\",'r') as htest:\n",
        "  htest_pts = json.load(htest)"
      ],
      "execution_count": 6,
      "outputs": []
    },
    {
      "cell_type": "markdown",
      "metadata": {
        "id": "elBkxRdif3G9"
      },
      "source": [
        "# Crop train set"
      ]
    },
    {
      "cell_type": "code",
      "metadata": {
        "colab": {
          "base_uri": "https://localhost:8080/"
        },
        "id": "WSJISWUnO0GF",
        "outputId": "67a7737d-4d9e-411f-e303-ce9e07de4601"
      },
      "source": [
        "helen_cropped_train_pts = {}\n",
        "number = 0\n",
        "\n",
        "for key in htrain_pts.keys():\n",
        "  max_x, min_x, max_y, min_y = boundary(htrain_pts[key])\n",
        "  img_array = cv2.imread(os.path.join(dataset_helen_train_path, key + '.jpg'))\n",
        "\n",
        "  xrange = max_x - min_x\n",
        "  yrange = max_y - min_y\n",
        "  crop_max_x = int(max_x+0.05*xrange) if max_x+0.05*xrange<img_array.shape[1] else img_array.shape[1]\n",
        "  crop_max_y = int(max_y+0.05*yrange) if max_y+0.05*yrange<img_array.shape[0] else img_array.shape[0]\n",
        "  crop_min_x = int(min_x-0.05*xrange) if min_x-0.05*xrange>0 else 0\n",
        "  crop_min_y = int(min_y-0.05*yrange) if min_y-0.05*yrange>0 else 0\n",
        "  \n",
        "  frac_x = 256/(crop_max_x - crop_min_x)\n",
        "  frac_y = 256/(crop_max_y - crop_min_y)\n",
        "\n",
        "  cropped_img_array = img_array[crop_min_y:crop_max_y, crop_min_x:crop_max_x, :]\n",
        "  resized_img = cv2.resize(cropped_img_array,(256,256))\n",
        "  cv2.imwrite(os.path.join(\"datasets/cropped_helen/trainset\", key + '.jpg'), resized_img, [int(cv2.IMWRITE_JPEG_QUALITY), 100])\n",
        "\n",
        "  landmarks = htrain_pts[key].copy()\n",
        "  for i in range(len(landmarks)):\n",
        "    landmarks[i][0] = (landmarks[i][0] - crop_min_x)*frac_x\n",
        "    landmarks[i][1] = (landmarks[i][1] - crop_min_y)*frac_y\n",
        "  helen_cropped_train_pts[key] = landmarks\n",
        "\n",
        "  # max_x, min_x, max_y, min_y = boundary(landmarks)\n",
        "  # if max_x >300 or max_y > 300:\n",
        "  #   print('key',key)\n",
        "  #   break\n",
        "  \n",
        "  number += 1\n",
        "  if number % 100 == 0:\n",
        "    print('Processing... ',number,'/',len(htrain_pts))"
      ],
      "execution_count": 7,
      "outputs": [
        {
          "output_type": "stream",
          "text": [
            "Processing...  100 / 2000\n",
            "Processing...  200 / 2000\n",
            "Processing...  300 / 2000\n",
            "Processing...  400 / 2000\n",
            "Processing...  500 / 2000\n",
            "Processing...  600 / 2000\n",
            "Processing...  700 / 2000\n",
            "Processing...  800 / 2000\n",
            "Processing...  900 / 2000\n",
            "Processing...  1000 / 2000\n",
            "Processing...  1100 / 2000\n",
            "Processing...  1200 / 2000\n",
            "Processing...  1300 / 2000\n",
            "Processing...  1400 / 2000\n",
            "Processing...  1500 / 2000\n",
            "Processing...  1600 / 2000\n",
            "Processing...  1700 / 2000\n",
            "Processing...  1800 / 2000\n",
            "Processing...  1900 / 2000\n",
            "Processing...  2000 / 2000\n"
          ],
          "name": "stdout"
        }
      ]
    },
    {
      "cell_type": "code",
      "metadata": {
        "id": "OYTD7KjQHlqM"
      },
      "source": [
        "helen_cropped_train_pts_js = json.dumps(helen_cropped_train_pts)\n",
        "\n",
        "fileObject = open('datasets/cropped_helen/helen_cropped_train_pts.json', 'w')  \n",
        "fileObject.write(helen_cropped_train_pts_js)  \n",
        "fileObject.close()"
      ],
      "execution_count": 8,
      "outputs": []
    },
    {
      "cell_type": "markdown",
      "metadata": {
        "id": "53gtVB4tf5w8"
      },
      "source": [
        "## Crop test set"
      ]
    },
    {
      "cell_type": "code",
      "metadata": {
        "colab": {
          "base_uri": "https://localhost:8080/"
        },
        "id": "7JqLtOfAsKZd",
        "outputId": "59cdeab8-f483-4e4a-ac80-aa28abd69b15"
      },
      "source": [
        "helen_cropped_test_pts = {}\n",
        "number = 0\n",
        "\n",
        "for key in htest_pts.keys():\n",
        "  max_x, min_x, max_y, min_y = boundary(htest_pts[key])\n",
        "  img_array = cv2.imread(os.path.join(dataset_helen_test_path, key + '.jpg'))\n",
        "\n",
        "  xrange = max_x - min_x\n",
        "  yrange = max_y - min_y\n",
        "  crop_max_x = int(max_x+0.05*xrange) if max_x+0.05*xrange<img_array.shape[1] else img_array.shape[1]\n",
        "  crop_max_y = int(max_y+0.05*yrange) if max_y+0.05*yrange<img_array.shape[0] else img_array.shape[0]\n",
        "  crop_min_x = int(min_x-0.05*xrange) if min_x-0.05*xrange>0 else 0\n",
        "  crop_min_y = int(min_y-0.05*yrange) if min_y-0.05*yrange>0 else 0\n",
        "  \n",
        "  frac_x = 256/(crop_max_x - crop_min_x)\n",
        "  frac_y = 256/(crop_max_y - crop_min_y)\n",
        "\n",
        "  cropped_img_array = img_array[crop_min_y:crop_max_y, crop_min_x:crop_max_x, :]\n",
        "  resized_img = cv2.resize(cropped_img_array,(256,256))\n",
        "  cv2.imwrite(os.path.join(\"datasets/cropped_helen/testset\", key + '.jpg'), resized_img, [int(cv2.IMWRITE_JPEG_QUALITY), 100])\n",
        "\n",
        "  landmarks = htest_pts[key].copy()\n",
        "  for i in range(len(landmarks)):\n",
        "    landmarks[i][0] = (landmarks[i][0] - crop_min_x)*frac_x\n",
        "    landmarks[i][1] = (landmarks[i][1] - crop_min_y)*frac_y\n",
        "  helen_cropped_test_pts[key] = landmarks\n",
        "  number += 1\n",
        "  if number % 100 == 0:\n",
        "    print('Processing... ',number,'/',len(htest_pts))"
      ],
      "execution_count": 15,
      "outputs": [
        {
          "output_type": "stream",
          "text": [
            "Processing...  100 / 330\n",
            "Processing...  200 / 330\n",
            "Processing...  300 / 330\n"
          ],
          "name": "stdout"
        }
      ]
    },
    {
      "cell_type": "code",
      "metadata": {
        "id": "s9wHHSQyCWie"
      },
      "source": [
        "helen_cropped_test_pts_js = json.dumps(helen_cropped_test_pts)\n",
        "\n",
        "fileObject = open('datasets/cropped_helen/helen_cropped_test_pts.json', 'w')  \n",
        "fileObject.write(helen_cropped_test_pts_js)  \n",
        "fileObject.close()"
      ],
      "execution_count": 16,
      "outputs": []
    },
    {
      "cell_type": "markdown",
      "metadata": {
        "id": "OqoxmxkLf8nj"
      },
      "source": [
        "# Sample cropping result"
      ]
    },
    {
      "cell_type": "code",
      "metadata": {
        "id": "F8Iv3s-fIdiG"
      },
      "source": [
        "key = '2320302773_1'\n",
        "def print_img(key):\n",
        "  path_orig_pic = os.path.join(\"datasets/helen/trainset\", key + '.jpg')\n",
        "  path_crop_pic = os.path.join(\"datasets/cropped_helen/trainset\", key + '.jpg')\n",
        "  with open(\"datasets/helen/helen_train_pts.json\",'r') as load_train:\n",
        "    orig_pts = json.load(load_train)\n",
        "  with open(\"datasets/cropped_helen/helen_cropped_train_pts.json\",'r') as load_crop:\n",
        "    crop_pts = json.load(load_crop)\n",
        "\n",
        "  orig_pic = cv2.imread(path_orig_pic)\n",
        "  orig_pic = cv2.cvtColor(orig_pic, cv2.COLOR_BGR2RGB)\n",
        "  crop_pic = cv2.imread(path_crop_pic)\n",
        "  crop_pic = cv2.cvtColor(crop_pic, cv2.COLOR_BGR2RGB)\n",
        "\n",
        "  orig_x = [orig_pts[key][i][0] for i in range(68)]\n",
        "  orig_y = [orig_pts[key][i][1] for i in range(68)]\n",
        "  crop_x = [crop_pts[key][i][0] for i in range(68)]\n",
        "  crop_y = [crop_pts[key][i][1] for i in range(68)]\n",
        "\n",
        "  plt.subplot(121) \n",
        "  plt.imshow(Image.fromarray(orig_pic))\n",
        "  plt.scatter(orig_x,orig_y,color='r')\n",
        "  plt.title('Original Img')\n",
        "  plt.subplot(122) \n",
        "  plt.imshow(Image.fromarray(crop_pic))\n",
        "  plt.scatter(crop_x,crop_y,color='r')\n",
        "  plt.title('Cropped Img') \n",
        "  plt.show()"
      ],
      "execution_count": 23,
      "outputs": []
    },
    {
      "cell_type": "code",
      "metadata": {
        "id": "IZE8rCd4B8Za",
        "colab": {
          "base_uri": "https://localhost:8080/",
          "height": 216
        },
        "outputId": "04d1fcb6-364e-435c-e7e5-bdd9f624b4b7"
      },
      "source": [
        "print_img(key)"
      ],
      "execution_count": 24,
      "outputs": [
        {
          "output_type": "display_data",
          "data": {
            "image/png": "[encoded data removed]",
            "text/plain": [
              "<Figure size 432x288 with 2 Axes>"
            ]
          },
          "metadata": {
            "tags": [],
            "needs_background": "light"
          }
        }
      ]
    },
    {
      "cell_type": "markdown",
      "metadata": {
        "id": "dfLewfpVLZ7c"
      },
      "source": [
        "# Check outsiders"
      ]
    },
    {
      "cell_type": "code",
      "metadata": {
        "id": "S26ciyWVdQkV",
        "colab": {
          "base_uri": "https://localhost:8080/",
          "height": 281
        },
        "outputId": "1a2eaaab-be9d-4255-d161-63e30320d97a"
      },
      "source": [
        "with open(\"datasets/cropped_helen/helen_cropped_train_pts.json\",'r') as load_crop_train:\n",
        "  crop_pts_train = json.load(load_crop_train)\n",
        "\n",
        "for key in crop_pts_train.keys():\n",
        "  crop_x = [crop_pts_train[key][i][0] for i in range(68)]\n",
        "  crop_y = [crop_pts_train[key][i][1] for i in range(68)]\n",
        "  plt.scatter(crop_x,crop_y,color='r')\n",
        "\n",
        "plt.title('Cropped Pts Train') \n",
        "plt.show()"
      ],
      "execution_count": 13,
      "outputs": [
        {
          "output_type": "display_data",
          "data": {
            "image/png": "[encoded data removed]",
            "text/plain": [
              "<Figure size 432x288 with 1 Axes>"
            ]
          },
          "metadata": {
            "tags": [],
            "needs_background": "light"
          }
        }
      ]
    },
    {
      "cell_type": "code",
      "metadata": {
        "id": "TyKB6wGuxxiu",
        "colab": {
          "base_uri": "https://localhost:8080/",
          "height": 281
        },
        "outputId": "9be577fa-392d-44d7-9999-7c5a81793eaf"
      },
      "source": [
        "with open(\"datasets/cropped_helen/helen_cropped_test_pts.json\",'r') as load_crop_test:\n",
        "  crop_pts_test = json.load(load_crop_test)\n",
        "\n",
        "for key in crop_pts_test.keys():\n",
        "  crop_x = [crop_pts_test[key][i][0] for i in range(68)]\n",
        "  crop_y = [crop_pts_test[key][i][1] for i in range(68)]\n",
        "  plt.scatter(crop_x,crop_y,color='r')\n",
        "\n",
        "plt.title('Cropped Pts Test') \n",
        "plt.show()"
      ],
      "execution_count": 33,
      "outputs": [
        {
          "output_type": "display_data",
          "data": {
            "image/png": "[encoded data removed]",
            "text/plain": [
              "<Figure size 432x288 with 1 Axes>"
            ]
          },
          "metadata": {
            "tags": [],
            "needs_background": "light"
          }
        }
      ]
    },
    {
      "cell_type": "code",
      "metadata": {
        "id": "PZ3FimAZdQoY"
      },
      "source": [
        ""
      ],
      "execution_count": null,
      "outputs": []
    },
    {
      "cell_type": "code",
      "metadata": {
        "id": "FCbqAqiudQqY"
      },
      "source": [
        ""
      ],
      "execution_count": null,
      "outputs": []
    },
    {
      "cell_type": "code",
      "metadata": {
        "id": "STiHApnOdQsP"
      },
      "source": [
        ""
      ],
      "execution_count": null,
      "outputs": []
    },
    {
      "cell_type": "code",
      "metadata": {
        "id": "ywLBcII0dQvK"
      },
      "source": [
        ""
      ],
      "execution_count": null,
      "outputs": []
    }
  ]
}