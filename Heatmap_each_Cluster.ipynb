{
  "nbformat": 4,
  "nbformat_minor": 0,
  "metadata": {
    "accelerator": "GPU",
    "colab": {
      "name": "Heatmap_each.ipynb",
      "provenance": [],
      "collapsed_sections": [
        "DYg3xfn9nNZG",
        "WuadX7ih6DBH",
        "hI4oDHxZL2g1",
        "tkTz5sUQMLz0",
        "FPmmxXVJMR_X",
        "Thgdc-wEzmgX"
      ],
      "machine_shape": "hm",
      "authorship_tag": "ABX9TyNaWsXMduYfL+eFGBIpJeAV",
      "include_colab_link": true
    },
    "kernelspec": {
      "display_name": "Python 3",
      "name": "python3"
    },
    "language_info": {
      "name": "python"
    }
  },
  "cells": [
    {
      "cell_type": "markdown",
      "metadata": {
        "id": "view-in-github",
        "colab_type": "text"
      },
      "source": [
        "<a href=\"https://colab.research.google.com/github/Pengchengzhi/Face-Alignment-DRF/blob/main/Heatmap_each_Cluster.ipynb\" target=\"_parent\"><img src=\"https://colab.research.google.com/assets/colab-badge.svg\" alt=\"Open In Colab\"/></a>"
      ]
    },
    {
      "cell_type": "markdown",
      "metadata": {
        "id": "MM5xsjG4dlYi"
      },
      "source": [
        "* Improve accuracy:\n",
        "\n",
        "```\n",
        "1. Move top1 towards top2 by 1/4\n",
        "\n",
        "```\n",
        "\n",
        "* Ablation study\n",
        "\n",
        "```\n",
        "1. Anneal range (1-3 or 1-100)\n",
        "2. Leaf Node dimension\n",
        "3. Number of Trees\n",
        "4. Stack Hourglass or One Hourglass\n",
        "```"
      ]
    },
    {
      "cell_type": "code",
      "metadata": {
        "colab": {
          "base_uri": "https://localhost:8080/"
        },
        "id": "EtgeTj0Mzand",
        "outputId": "a2a5b397-a581-453a-bf68-75ed44f1066e"
      },
      "source": [
        "!nvidia-smi"
      ],
      "execution_count": 1,
      "outputs": [
        {
          "output_type": "stream",
          "text": [
            "Sun Jul 11 10:02:44 2021       \n",
            "+-----------------------------------------------------------------------------+\n",
            "| NVIDIA-SMI 470.42.01    Driver Version: 460.32.03    CUDA Version: 11.2     |\n",
            "|-------------------------------+----------------------+----------------------+\n",
            "| GPU  Name        Persistence-M| Bus-Id        Disp.A | Volatile Uncorr. ECC |\n",
            "| Fan  Temp  Perf  Pwr:Usage/Cap|         Memory-Usage | GPU-Util  Compute M. |\n",
            "|                               |                      |               MIG M. |\n",
            "|===============================+======================+======================|\n",
            "|   0  Tesla V100-SXM2...  Off  | 00000000:00:04.0 Off |                    0 |\n",
            "| N/A   33C    P0    23W / 300W |      0MiB / 16160MiB |      0%      Default |\n",
            "|                               |                      |                  N/A |\n",
            "+-------------------------------+----------------------+----------------------+\n",
            "                                                                               \n",
            "+-----------------------------------------------------------------------------+\n",
            "| Processes:                                                                  |\n",
            "|  GPU   GI   CI        PID   Type   Process name                  GPU Memory |\n",
            "|        ID   ID                                                   Usage      |\n",
            "|=============================================================================|\n",
            "|  No running processes found                                                 |\n",
            "+-----------------------------------------------------------------------------+\n"
          ],
          "name": "stdout"
        }
      ]
    },
    {
      "cell_type": "code",
      "metadata": {
        "id": "CwaFQsAKXJeu"
      },
      "source": [
        "# function ConnectButton(){\n",
        "#   console.log(\"Connect pushed\"); \n",
        "#   document.querySelector(\"#top-toolbar > colab-connect-button\").shadowRoot.querySelector(\"#connect\").click() \n",
        "# }\n",
        "# setInterval(ConnectButton,60000);\n",
        "\n",
        "\n",
        "# clearInterval(37042)"
      ],
      "execution_count": 1,
      "outputs": []
    },
    {
      "cell_type": "markdown",
      "metadata": {
        "id": "DYg3xfn9nNZG"
      },
      "source": [
        "# 1. Initialize"
      ]
    },
    {
      "cell_type": "code",
      "metadata": {
        "id": "rZz6RlS5nIjb",
        "colab": {
          "base_uri": "https://localhost:8080/"
        },
        "outputId": "a2e48cbf-09a3-4716-b243-4d96e30ad73e"
      },
      "source": [
        "from google.colab import drive\n",
        "drive.mount(\"/content/drive\")\n",
        "\n",
        "import os\n",
        "path=\"/content/drive/My Drive/Face Alignment DRF\"\n",
        "os.chdir(path)\n",
        "os.listdir(path)"
      ],
      "execution_count": 2,
      "outputs": [
        {
          "output_type": "stream",
          "text": [
            "Mounted at /content/drive\n"
          ],
          "name": "stdout"
        },
        {
          "output_type": "execute_result",
          "data": {
            "text/plain": [
              "['Procruses Analysis.ipynb',\n",
              " 'PCA.ipynb',\n",
              " '__pycache__',\n",
              " 'utils',\n",
              " 'datasets',\n",
              " 'Gaussian.ipynb',\n",
              " 'Heatmap_all.ipynb',\n",
              " 'trained_models',\n",
              " 'checkpoints',\n",
              " 'Update_leaf.ipynb',\n",
              " 'Solve_RF_increase.ipynb',\n",
              " 'Heatmap_each_Test_NME.ipynb',\n",
              " 'Heatmap_each_Fullset_Fullpoints.ipynb',\n",
              " 'DataPreprocessing.ipynb',\n",
              " 'Landmarks_Correlation.ipynb',\n",
              " 'Untitled0.ipynb',\n",
              " 'Heatmap_each.ipynb']"
            ]
          },
          "metadata": {
            "tags": []
          },
          "execution_count": 2
        }
      ]
    },
    {
      "cell_type": "code",
      "metadata": {
        "id": "9t1ZMq5bnImS"
      },
      "source": [
        "import numpy as np\n",
        "import torch\n",
        "import torch.nn as nn\n",
        "import matplotlib.pyplot as plt\n",
        "import os\n",
        "import cv2\n",
        "import json\n",
        "import pandas as pd\n",
        "from PIL import Image\n",
        "import torchvision.models as models\n",
        "import pdb\n",
        "from torch.nn import Upsample\n",
        "from torch.autograd import Variable\n",
        "import torch.optim as optim\n",
        "import time\n",
        "\n",
        "import warnings\n",
        "warnings.filterwarnings('ignore')\n",
        "\n",
        "device = 'cuda' if torch.cuda.is_available() else 'cpu'"
      ],
      "execution_count": 3,
      "outputs": []
    },
    {
      "cell_type": "code",
      "metadata": {
        "id": "7X_p3w2L1N3I"
      },
      "source": [
        "from utils.hourglass import *\n",
        "from utils.dataloader import *"
      ],
      "execution_count": 4,
      "outputs": []
    },
    {
      "cell_type": "code",
      "metadata": {
        "id": "2IdbgNl31N63"
      },
      "source": [
        "# Landmarks Group\n",
        "group_landmarks = torch.tensor([8, 3, 3, 3, 3, 6, 6, 6, 6, 6,\n",
        "                 4, 4, 4, 4, 5, 5, 5, 8, 8, 8, \n",
        "                 8, 9, 1, 1, 1, 1, 1, 9, 9, 0, \n",
        "                 0, 0, 0, 0, 0, 0, 9, 9, 9, 9, \n",
        "                 9, 9, 7, 7, 7, 7, 7, 7, 2, 2, \n",
        "                 2, 2, 2, 2, 2, 2, 2, 2, 2, 2, \n",
        "                 2, 2, 2, 2, 2, 2, 2, 2]).to(device)\n",
        "\n",
        "# 0:7  1:5  2:20  3:4  4:4\n",
        "# 5:3  6:5  7:6  8:5  9:9\n",
        "\n",
        "Num_Clusters = 10\n",
        "\n",
        "cluster_len = torch.tensor([7,5,20,4,4,3,5,6,5,9]).to(device)\n",
        "dim_tree = torch.tensor([5,5,6,5,5,5,5,5,5,5]).to(device)\n",
        "num_tree = torch.tensor([2,2,3,1,1,1,2,2,2,3]).to(device)\n",
        "variance_gaussian = 3\n",
        "\n",
        "num_fc = torch.sum(num_tree*(2**(dim_tree-1)-1)).item()\n",
        "num_leaf_nodes = num_tree*2**(dim_tree-1)\n",
        "total_num_leaf_nodes = torch.sum(num_leaf_nodes).item()"
      ],
      "execution_count": 5,
      "outputs": []
    },
    {
      "cell_type": "markdown",
      "metadata": {
        "id": "Ujtj3iZLeKjh"
      },
      "source": [
        "# 2. Data Loader"
      ]
    },
    {
      "cell_type": "code",
      "metadata": {
        "id": "9p3Gm9g7ePAp",
        "colab": {
          "base_uri": "https://localhost:8080/"
        },
        "outputId": "a6af4ba4-1956-400d-91a5-a72603c9f0e1"
      },
      "source": [
        "helen_trainset = Helen_set(dataset_type=\"train\",var=variance_gaussian)\n",
        "train_dataloder = DataLoader(helen_trainset, batch_size=10, shuffle=True, drop_last=True)"
      ],
      "execution_count": null,
      "outputs": [
        {
          "output_type": "stream",
          "text": [
            "Loading [1/2000] pictures......\n"
          ],
          "name": "stdout"
        }
      ]
    },
    {
      "cell_type": "code",
      "metadata": {
        "colab": {
          "base_uri": "https://localhost:8080/"
        },
        "id": "AxldHghxePCz",
        "outputId": "925b2fb7-a970-4a85-f449-41668c8e945b"
      },
      "source": [
        "helen_testset = Helen_set(dataset_type=\"test\",var=variance_gaussian)\n",
        "test_dataloder = DataLoader(helen_testset, batch_size=30)"
      ],
      "execution_count": null,
      "outputs": [
        {
          "output_type": "stream",
          "text": [
            "Loading [1/330] pictures......\n",
            "Loading [200/330] pictures......\n"
          ],
          "name": "stdout"
        }
      ]
    },
    {
      "cell_type": "markdown",
      "metadata": {
        "id": "WuadX7ih6DBH"
      },
      "source": [
        "# 3. Pre Train"
      ]
    },
    {
      "cell_type": "code",
      "metadata": {
        "id": "TuvaAR5zZyaO",
        "colab": {
          "base_uri": "https://localhost:8080/"
        },
        "outputId": "9acd1687-291d-4c2f-aa15-52474be93193"
      },
      "source": [
        "# helen_trainset = Helen_set(dataset_type=\"train\",var=variance_gaussian)\n",
        "# train_dataloder = DataLoader(helen_trainset, batch_size=10, shuffle=True)"
      ],
      "execution_count": null,
      "outputs": [
        {
          "output_type": "stream",
          "text": [
            "Loading [1/2000] pictures......\n",
            "Loading [400/2000] pictures......\n",
            "Loading [800/2000] pictures......\n",
            "Loading [1200/2000] pictures......\n",
            "Loading [1600/2000] pictures......\n",
            "Loading [2000/2000] pictures......\n"
          ],
          "name": "stdout"
        }
      ]
    },
    {
      "cell_type": "code",
      "metadata": {
        "id": "v8dtsSr1YTxC"
      },
      "source": [
        "# critical = torch.nn.MSELoss()\n",
        "\n",
        "# nIters = 200\n",
        "# HGNet = HGNet().to(device)\n",
        "# optimizer = optim.SGD(HGNet.parameters(), lr=0.001, momentum=0.9, weight_decay=1e-4)"
      ],
      "execution_count": null,
      "outputs": []
    },
    {
      "cell_type": "code",
      "metadata": {
        "id": "ldqsJUzm6FOm",
        "colab": {
          "base_uri": "https://localhost:8080/",
          "height": 1000
        },
        "outputId": "69a4d629-e0cb-4707-81d9-652f83c91fd7"
      },
      "source": [
        "# loss_hist = torch.zeros(nIters)\n",
        "# loss_epoch = torch.zeros(200)\n",
        "\n",
        "# for iter in range(nIters):\n",
        "#   for i, (x,_,y) in enumerate(train_dataloder):\n",
        "#     x = Variable(x,requires_grad=True).float().to(device)\n",
        "#     y = Variable(y).float().to(device)\n",
        "#     y_pred = HGNet.forward(x)\n",
        "#     loss = critical(y_pred, y)\n",
        "#     loss_epoch[i] = loss.item()\n",
        "\n",
        "#     if i == 199:\n",
        "#       loss_avg = torch.sum(loss_epoch)/200\n",
        "#       loss_hist[iter] = loss_avg\n",
        "#       if (iter+1)%5 == 0 or iter == 0:\n",
        "#         print('Iter [%d/%d] loss %.6f' %(iter+1, nIters, loss_avg))\n",
        "        \n",
        "#     optimizer.zero_grad()\n",
        "#     loss.backward()\n",
        "#     optimizer.step()\n",
        "\n",
        "# plt.plot(torch.arange(nIters),loss_hist.detach().numpy())\n",
        "# plt.title(\"Training Loss\")"
      ],
      "execution_count": null,
      "outputs": [
        {
          "output_type": "stream",
          "text": [
            "Iter [1/200] loss 0.415810\n",
            "Iter [5/200] loss 0.147527\n",
            "Iter [10/200] loss 0.053415\n",
            "Iter [15/200] loss 0.027352\n",
            "Iter [20/200] loss 0.015622\n",
            "Iter [25/200] loss 0.008033\n",
            "Iter [30/200] loss 0.004600\n",
            "Iter [35/200] loss 0.002712\n",
            "Iter [40/200] loss 0.001132\n",
            "Iter [45/200] loss 0.000598\n",
            "Iter [50/200] loss 0.000377\n",
            "Iter [55/200] loss 0.000329\n",
            "Iter [60/200] loss 0.000263\n",
            "Iter [65/200] loss 0.000295\n",
            "Iter [70/200] loss 0.000180\n",
            "Iter [75/200] loss 0.000147\n",
            "Iter [80/200] loss 0.000140\n",
            "Iter [85/200] loss 0.000140\n",
            "Iter [90/200] loss 0.000111\n",
            "Iter [95/200] loss 0.000160\n",
            "Iter [100/200] loss 0.000093\n",
            "Iter [105/200] loss 0.000077\n",
            "Iter [110/200] loss 0.000065\n",
            "Iter [115/200] loss 0.000058\n",
            "Iter [120/200] loss 0.000065\n",
            "Iter [125/200] loss 0.000059\n",
            "Iter [130/200] loss 0.000068\n",
            "Iter [135/200] loss 0.000048\n",
            "Iter [140/200] loss 0.000064\n",
            "Iter [145/200] loss 0.000048\n",
            "Iter [150/200] loss 0.000054\n",
            "Iter [155/200] loss 0.000056\n",
            "Iter [160/200] loss 0.000039\n",
            "Iter [160/200] loss 0.000039\n",
            "Iter [160/200] loss 0.000039\n",
            "Iter [165/200] loss 0.000041\n",
            "Iter [165/200] loss 0.000041\n",
            "Iter [165/200] loss 0.000041\n",
            "Iter [170/200] loss 0.000042\n",
            "Iter [170/200] loss 0.000042\n",
            "Iter [170/200] loss 0.000042\n",
            "Iter [175/200] loss 0.000034\n",
            "Iter [175/200] loss 0.000034\n",
            "Iter [175/200] loss 0.000034\n",
            "Iter [180/200] loss 0.000035\n",
            "Iter [180/200] loss 0.000035\n",
            "Iter [180/200] loss 0.000035\n",
            "Iter [185/200] loss 0.000035\n",
            "Iter [185/200] loss 0.000035\n",
            "Iter [185/200] loss 0.000035\n",
            "Iter [190/200] loss 0.000031\n",
            "Iter [190/200] loss 0.000031\n",
            "Iter [190/200] loss 0.000031\n",
            "Iter [195/200] loss 0.000027\n",
            "Iter [195/200] loss 0.000027\n",
            "Iter [195/200] loss 0.000027\n",
            "Iter [200/200] loss 0.000034\n",
            "Iter [200/200] loss 0.000034\n",
            "Iter [200/200] loss 0.000034\n"
          ],
          "name": "stdout"
        },
        {
          "output_type": "execute_result",
          "data": {
            "text/plain": [
              "Text(0.5, 1.0, 'Training Loss')"
            ]
          },
          "metadata": {
            "tags": []
          },
          "execution_count": 8
        },
        {
          "output_type": "execute_result",
          "data": {
            "text/plain": [
              "Text(0.5, 1.0, 'Training Loss')"
            ]
          },
          "metadata": {
            "tags": []
          },
          "execution_count": 8
        },
        {
          "output_type": "execute_result",
          "data": {
            "text/plain": [
              "Text(0.5, 1.0, 'Training Loss')"
            ]
          },
          "metadata": {
            "tags": []
          },
          "execution_count": 8
        },
        {
          "output_type": "display_data",
          "data": {
            "image/png": "[encoded data removed]",
            "text/plain": [
              "<Figure size 432x288 with 1 Axes>"
            ]
          },
          "metadata": {
            "tags": [],
            "needs_background": "light"
          }
        },
        {
          "output_type": "display_data",
          "data": {
            "image/png": "[encoded data removed]",
            "text/plain": [
              "<Figure size 432x288 with 1 Axes>"
            ]
          },
          "metadata": {
            "tags": [],
            "needs_background": "light"
          }
        },
        {
          "output_type": "display_data",
          "data": {
            "image/png": "[encoded data removed]",
            "text/plain": [
              "<Figure size 432x288 with 1 Axes>"
            ]
          },
          "metadata": {
            "tags": [],
            "needs_background": "light"
          }
        }
      ]
    },
    {
      "cell_type": "code",
      "metadata": {
        "id": "iPGlnWGC5GiG"
      },
      "source": [
        "# torch.save(HGNet.state_dict(), \"trained_models/Stacked_HGNet.pt\")"
      ],
      "execution_count": null,
      "outputs": []
    },
    {
      "cell_type": "markdown",
      "metadata": {
        "id": "BqtrLQM_MJCB"
      },
      "source": [
        "Test"
      ]
    },
    {
      "cell_type": "code",
      "metadata": {
        "id": "ijEChMlNMIZO"
      },
      "source": [
        ""
      ],
      "execution_count": null,
      "outputs": []
    },
    {
      "cell_type": "code",
      "metadata": {
        "id": "kpkiyY2kMF6M"
      },
      "source": [
        ""
      ],
      "execution_count": null,
      "outputs": []
    },
    {
      "cell_type": "code",
      "metadata": {
        "id": "32q38FcgMGBZ"
      },
      "source": [
        ""
      ],
      "execution_count": null,
      "outputs": []
    },
    {
      "cell_type": "code",
      "metadata": {
        "id": "aBmNn-2IMGFU"
      },
      "source": [
        ""
      ],
      "execution_count": null,
      "outputs": []
    },
    {
      "cell_type": "markdown",
      "metadata": {
        "id": "gOfZegOP6e2P"
      },
      "source": [
        "# 4. Tune Training"
      ]
    },
    {
      "cell_type": "markdown",
      "metadata": {
        "id": "hI4oDHxZL2g1"
      },
      "source": [
        "## 4.1 Functions"
      ]
    },
    {
      "cell_type": "markdown",
      "metadata": {
        "id": "WF5Gm7izSv94"
      },
      "source": [
        "![PHI.png](data:image/png;base64,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)"
      ]
    },
    {
      "cell_type": "code",
      "metadata": {
        "id": "FZxWA2wWp6L9"
      },
      "source": [
        "def leaf_direction(N):\n",
        "  point = torch.zeros(2**N,N).to(device)\n",
        "\n",
        "  def get01(number, len):\n",
        "    result = torch.zeros(len).to(device)\n",
        "    ind = len\n",
        "    while ind >0:\n",
        "      if 2**(ind-1)<=number:\n",
        "        result[len-ind] = 1\n",
        "        number -= 2**(ind-1)\n",
        "      ind -= 1\n",
        "    return result\n",
        "  \n",
        "  for i in range(2**N):\n",
        "    point[i,:] = get01(i,N)\n",
        "\n",
        "  return point.int()"
      ],
      "execution_count": null,
      "outputs": []
    },
    {
      "cell_type": "code",
      "metadata": {
        "id": "3cxp49YITBw5"
      },
      "source": [
        "def split_tree(up,here,which=0,mode='Second'):\n",
        "  if mode=='initial':\n",
        "    if which == 0:\n",
        "      return here\n",
        "    else: return (1-here)\n",
        "  else:\n",
        "    if which == 0:\n",
        "      return up*here\n",
        "    else: return up*(1-here)"
      ],
      "execution_count": null,
      "outputs": []
    },
    {
      "cell_type": "code",
      "metadata": {
        "id": "lnlTIb-NxsoM"
      },
      "source": [
        "def split_base(N):\n",
        "  # returns index that split based on which cnn_fc col\n",
        "  res = torch.zeros(2**N*N).to(device)\n",
        "  lenth = 2**(N-1)\n",
        "  num = 1\n",
        "  left = 0\n",
        "  repeat = 1\n",
        "  max_repeat = 1\n",
        "  while lenth>0 and repeat<2**N:\n",
        "    res[left:left+lenth*2] = num\n",
        "    left += lenth*2\n",
        "    num += 1\n",
        "    repeat -= 1\n",
        "    if repeat == 0:\n",
        "      lenth = int(lenth/2)\n",
        "      repeat = max_repeat*2\n",
        "      max_repeat = repeat\n",
        "  return ((res.reshape(N,2**N)-1).T).int()"
      ],
      "execution_count": null,
      "outputs": []
    },
    {
      "cell_type": "code",
      "metadata": {
        "id": "CVWwwxF8p6Q3"
      },
      "source": [
        "def phi(cnn_fc,mode='train'):\n",
        "  N = cnn_fc.shape[0]\n",
        "  out = torch.zeros(N,total_num_leaf_nodes).to(device)\n",
        "  sigm = torch.zeros(cnn_fc.shape).to(device)\n",
        "\n",
        "  if mode == 'test':\n",
        "    sigm[cnn_fc>0] = 1\n",
        "  else:\n",
        "    sigm = torch.sigmoid(cnn_fc)\n",
        "\n",
        "  for cluster_ind in range(Num_Clusters):\n",
        "    the_dim_tree = dim_tree[cluster_ind].item()\n",
        "    the_num_tree = num_tree[cluster_ind].item()\n",
        "    out_y = torch.sum(num_leaf_nodes[0:cluster_ind]).item()\n",
        "\n",
        "    direction = leaf_direction(the_dim_tree-1)\n",
        "    tree_ind = split_base(the_dim_tree-1)\n",
        "    X, Y = tree_ind.shape\n",
        "\n",
        "    for ind_tree in range(the_num_tree):\n",
        "      for x in range(X):\n",
        "        for y in range(Y):\n",
        "          here = sigm[:,ind_tree*(X-1)+tree_ind[x,y]]\n",
        "          if y == 0:\n",
        "            up = split_tree(torch.rand(3).to(device),here,which=direction[x,y],mode='initial')\n",
        "          else:\n",
        "            up = split_tree(up,here,which=direction[x,y])\n",
        "          #print('y',y,'up',up)\n",
        "\n",
        "        out[:,out_y+ind_tree*X+x] = up\n",
        "    \n",
        "  return out"
      ],
      "execution_count": null,
      "outputs": []
    },
    {
      "cell_type": "code",
      "metadata": {
        "id": "GgxJx7ISuQ0h"
      },
      "source": [
        "def find_coord(prob_map, P):\n",
        "  # prob_map(200,68*256*256)\n",
        "  # P: number of points\n",
        "  N = prob_map.shape[0]\n",
        "\n",
        "  coord = torch.zeros(N,P*2).to(device)\n",
        "  heatmap = prob_map.reshape(N,P,256,256).float()\n",
        "  for n in range(N):\n",
        "    for p in range(P):\n",
        "      c1, c2 = torch.where(heatmap[n,p,:,:]==torch.max(heatmap[n,p,:,:]))\n",
        "      coord[n,2*p], coord[n,2*p+1] = c1[0], c2[0]\n",
        "\n",
        "  return coord"
      ],
      "execution_count": null,
      "outputs": []
    },
    {
      "cell_type": "code",
      "metadata": {
        "id": "gsjnbCronKEr"
      },
      "source": [
        "def get_mask(cnn_heatmaps,threshold=0.3):\n",
        "  mask = torch.zeros(cnn_heatmaps.shape).to(device)\n",
        "  B, P = cnn_heatmaps.shape[0:2]\n",
        "  for b in range(B):\n",
        "    for p in range(P):\n",
        "      hm = cnn_heatmaps[b,p,:,:]\n",
        "      mask[b,p,:,:][hm>torch.max(hm)*threshold]=1\n",
        "  return mask"
      ],
      "execution_count": null,
      "outputs": []
    },
    {
      "cell_type": "code",
      "metadata": {
        "id": "W_3gH6zKxFH5"
      },
      "source": [
        "def update_iter(q, p, l):\n",
        "  # q: leaf node\n",
        "  # p: cnn probability\n",
        "  # l: label\n",
        "\n",
        "  gamma = torch.unsqueeze(p,2)*torch.unsqueeze(q,0) # (Ntrain,Nleaf,Nlabel)\n",
        "  gamma = gamma/(torch.sum(gamma,axis=1,keepdims=True)+1e-8)\n",
        "  score = torch.zeros(gamma.shape).to(q.device)\n",
        "  for ll in range(q.shape[0]):\n",
        "    score[:,ll,:] = l*gamma[:,ll,:]\n",
        "  score = torch.sum(score,axis=0)+1e-8 # (3,2)\n",
        "\n",
        "  return score/torch.sum(score,axis=1,keepdims=True)"
      ],
      "execution_count": null,
      "outputs": []
    },
    {
      "cell_type": "code",
      "metadata": {
        "id": "NeXLek-51At1"
      },
      "source": [
        "# def loss_ce(B, q, p, l):\n",
        "#   pred = torch.matmul(p,q.reshape(num_leaf_nodes,-1)).reshape(B*12,-1)\n",
        "#   pred = pred/torch.sum(pred,axis=1,keepdims=True)\n",
        "#   l = l.reshape(B*12,-1)\n",
        "#   l = l/torch.sum(l,axis=1,keepdims=True)\n",
        "\n",
        "#   return -criterion_KL(l,pred)\n",
        "\n",
        "# def loss_l1(q, p, l):\n",
        "#   return torch.sum(torch.abs(torch.matmul(p,q)-l))/l.shape[0]\n",
        "\n",
        "def loss_alogb(B, q, p, l):\n",
        "  np = q.shape[1]\n",
        "  pred = torch.matmul(p,q.reshape(q.shape[0],-1)).reshape(B*np,-1)\n",
        "  pred = pred/torch.sum(pred,axis=1,keepdims=True)\n",
        "  l = l.reshape(B*np,-1)\n",
        "  l = l/torch.sum(l,axis=1,keepdims=True)\n",
        "\n",
        "  return -torch.sum(l*torch.log(pred))/B"
      ],
      "execution_count": null,
      "outputs": []
    },
    {
      "cell_type": "code",
      "metadata": {
        "id": "OrvWPbokHrcf"
      },
      "source": [
        "# def mask_and_norm(target, mask):\n",
        "#   # target (B,12,256,256)\n",
        "#   # mask (B,12,256,256)\n",
        "#   B,P = target.shape[0:2]\n",
        "\n",
        "#   res = (target*mask).reshape(B,P,-1)\n",
        "#   res = res/torch.sum(res,axis=2,keepdims=True)\n",
        "#   return res.reshape(B,-1)"
      ],
      "execution_count": null,
      "outputs": []
    },
    {
      "cell_type": "code",
      "metadata": {
        "id": "wTyJuAWyz4R_"
      },
      "source": [
        "def get_heatmap_full(cnn_prob, leaf_q):\n",
        "  # cnn_prob (B,total_num_leaf_nodes)\n",
        "  # leaf_q, dict, each (nleaf, ncluster, 256, 256)\n",
        "  B = cnn_prob.shape[0]\n",
        "  heatmap = torch.zeros(B,68,256,256).to(device)\n",
        "\n",
        "  for cluster_ind in range(Num_Clusters):\n",
        "    nleaf_start = torch.sum(num_leaf_nodes[0:cluster_ind]).item()\n",
        "    nleaf_end = torch.sum(num_leaf_nodes[0:cluster_ind+1]).item()\n",
        "    pts_start = torch.sum(cluster_len[0:cluster_ind]).item()\n",
        "    pts_end = torch.sum(cluster_len[0:cluster_ind+1]).item()\n",
        "\n",
        "    this_prob = cnn_prob[:,nleaf_start:nleaf_end]\n",
        "    this_leaf_q = leaf_q[cluster_ind]\n",
        "    q1,q2 = this_leaf_q.shape[0:2]\n",
        "    this_leaf_q = this_leaf_q.reshape(q1,-1)\n",
        "    heatmap[:,pts_start:pts_end,:,:] = torch.matmul(this_prob,this_leaf_q).reshape(B,q2,256,256)\n",
        "  \n",
        "  # normalize heatmap\n",
        "  heatmap = heatmap.reshape(B*68,-1)\n",
        "  heatmap = heatmap/torch.sum(heatmap,axis=1,keepdims=True)\n",
        "\n",
        "  return heatmap #(B*68,256*256)"
      ],
      "execution_count": null,
      "outputs": []
    },
    {
      "cell_type": "markdown",
      "metadata": {
        "id": "tkTz5sUQMLz0"
      },
      "source": [
        "## 4.2 Sample Set"
      ]
    },
    {
      "cell_type": "code",
      "metadata": {
        "id": "WSHepin65GkR"
      },
      "source": [
        "# helen_sampleset = Helen_set(dataset_type=\"sample\",var=variance_gaussian)\n",
        "# sample_dataloder = DataLoader(helen_sampleset, batch_size=20) \n",
        "# helen_sampletest = Helen_set(dataset_type=\"sample_test\",var=variance_gaussian)\n",
        "# sample_test_dataloder = DataLoader(helen_sampletest, batch_size=10)"
      ],
      "execution_count": null,
      "outputs": []
    },
    {
      "cell_type": "markdown",
      "metadata": {
        "id": "FPmmxXVJMR_X"
      },
      "source": [
        "## 4.3 Network"
      ]
    },
    {
      "cell_type": "code",
      "metadata": {
        "id": "D21DDsQ068MT"
      },
      "source": [
        "Tune_HGNet = HGNet(tune=True).to(device)\n",
        "Tune_HGNet.load_state_dict(torch.load(\"trained_models/Stacked_HGNet.pt\"))"
      ],
      "execution_count": null,
      "outputs": []
    },
    {
      "cell_type": "code",
      "metadata": {
        "id": "30y8lhvy7MdM"
      },
      "source": [
        "Tune_HGNet._HGNet__lin = nn.Sequential(nn.Conv2d(128,64,1),\n",
        "                    nn.BatchNorm2d(64),\n",
        "                    nn.ReLU(inplace=True),\n",
        "                    nn.MaxPool2d(4,4),  #(64,64,64)\n",
        "                    nn.Conv2d(64,16,1),\n",
        "                    nn.BatchNorm2d(16),\n",
        "                    nn.ReLU(inplace=True),\n",
        "                    nn.MaxPool2d(2,2),  #(16,32,32)\n",
        "                    nn.Conv2d(16,4,1),\n",
        "                    nn.BatchNorm2d(4),\n",
        "                    nn.ReLU(inplace=True),\n",
        "                    nn.MaxPool2d(2,2)).to(device)  #(4,16,16)()\n",
        "\n",
        "Tune_HGNet._HGNet__tune = nn.Sequential(nn.Linear(4*16*16,num_fc)).to(device)"
      ],
      "execution_count": null,
      "outputs": []
    },
    {
      "cell_type": "code",
      "metadata": {
        "id": "CL19Tq9SzWSZ"
      },
      "source": [
        "# Tune_HGNet.load_state_dict(torch.load(os.path.join(\"checkpoints/Anneal_Full_Train/Tune_HGNet_var\"+str(variance_gaussian)+\"_LossKL_dim\"+str(dim_tree)+\"_num\"+str(num_tree)+\"_Round5.pt\")))\n",
        "# leaf_q = torch.load(os.path.join(\"checkpoints/Anneal_Full_Train/leaf_q_var\"+str(variance_gaussian)+\"_LossKL_dim\"+str(dim_tree)+\"_num\"+str(num_tree)+\"_Round5.pt\"))"
      ],
      "execution_count": null,
      "outputs": []
    },
    {
      "cell_type": "markdown",
      "metadata": {
        "id": "mGgtySrWMVOj"
      },
      "source": [
        "## 4.4 Training"
      ]
    },
    {
      "cell_type": "code",
      "metadata": {
        "id": "USHoLjFo5Gma"
      },
      "source": [
        "#######################\n",
        "# Initialization\n",
        "Total_train = 10\n",
        "\n",
        "# CNN initilization\n",
        "nIters = 200\n",
        "learning_rate = 0.01\n",
        "\n",
        "# criterion_MSE = torch.nn.MSELoss()\n",
        "# criterion_KL = torch.nn.KLDivLoss()\n",
        "optimizer = optim.SGD(Tune_HGNet.parameters(), lr=learning_rate, momentum=0.9, weight_decay=1e-4)\n",
        "\n",
        "# Regression Tree parameters\n",
        "rf_Iters = 60\n"
      ],
      "execution_count": null,
      "outputs": []
    },
    {
      "cell_type": "markdown",
      "metadata": {
        "id": "mpz3XWVwCHFP"
      },
      "source": [
        "### Training using Log likelihood"
      ]
    },
    {
      "cell_type": "code",
      "metadata": {
        "id": "23W7VChUVDLT"
      },
      "source": [
        "!nvidia-smi"
      ],
      "execution_count": null,
      "outputs": []
    },
    {
      "cell_type": "code",
      "metadata": {
        "id": "6TVogH8u5Gob"
      },
      "source": [
        "# update using log likelihood\n",
        "\n",
        "time_initial = time.time()\n",
        "for round in range(Total_train):\n",
        "  time_start = time.time()\n",
        "  print(\"############################################################################\")\n",
        "  if torch.cuda.is_available():\n",
        "    print(\"Round [%d/%d], Using GPU\" %(round+1, Total_train))\n",
        "  else:\n",
        "    print(\"Round [%d/%d]\" %(round+1, Total_train))\n",
        "\n",
        "  \n",
        "  ######################################################\n",
        "  ### Train Hourglass using gradient decent\n",
        "  ### eyes: [36:48]\n",
        "  ######################################################\n",
        "  if round == 0:\n",
        "    leaf_q = {}\n",
        "    for cluster_ind in range(Num_Clusters):\n",
        "      leaf_q[cluster_ind] = (torch.ones(num_leaf_nodes[cluster_ind], cluster_len[cluster_ind], 256, 256)/(256*256)).to(device)\n",
        "    cnn_Iters = 30\n",
        "  else:\n",
        "    cnn_Iters = nIters\n",
        "\n",
        "  for iter in range(cnn_Iters):\n",
        "    loss_epoch = 0\n",
        "    for i, (x,_,y) in enumerate(train_dataloder):\n",
        "      x = x.float().to(device)\n",
        "      x.requires_grad = True\n",
        "      y = y.float().to(device)\n",
        "      B = x.shape[0]\n",
        "\n",
        "      outputs = Tune_HGNet.forward(x)*(round*0.2+1)\n",
        "      cnn_prob = phi(outputs)\n",
        "\n",
        "      cnn_heatmaps = get_heatmap_full(cnn_prob, leaf_q)\n",
        "      label_heatmaps = y.reshape(B*68,-1)\n",
        "      label_heatmaps = label_heatmaps/torch.sum(label_heatmaps,axis=1,keepdims=True)\n",
        "      loss = -torch.sum(label_heatmaps*torch.log(cnn_heatmaps+1e-8))/B\n",
        "\n",
        "      loss_epoch += loss.item()\n",
        "      if (iter+1)%5 == 0 or iter == 0:\n",
        "        if i == 199:\n",
        "          loss_epoch = loss_epoch/200\n",
        "          print('     CNN training, Iter [%d/%d], loss_CE: %.4f' %(iter+1, cnn_Iters, loss_epoch))\n",
        "      \n",
        "      optimizer.zero_grad()\n",
        "      loss.backward()\n",
        "      optimizer.step()\n",
        "\n",
        "      if (iter+1)%10 == 0:\n",
        "        torch.save(Tune_HGNet.state_dict(), os.path.join(\"checkpoints/Fullset_Fullpoints_Cluster/Tune_HGNet_var\"+str(variance_gaussian)+\"_LossKL_Clusters\"+str(Num_Clusters)+\"_Leafnodes\"+str(total_num_leaf_nodes)+\"_Round\"+str(round+1)+'_Intermediate.pt'))\n",
        "        print('     CNN intermediate model saved')\n",
        "\n",
        "  # calculate time for CNN training\n",
        "  time_cnn = time.time()\n",
        "  print(\"     -----> CNN training time: ## %.2f hrs ## \" %((time_cnn-time_start)/3600))\n",
        "\n",
        "  # save model\n",
        "  torch.save(Tune_HGNet.state_dict(), os.path.join(\"checkpoints/Fullset_Fullpoints_Cluster/Tune_HGNet_var\"+str(variance_gaussian)+\"_LossKL_Clusters\"+str(Num_Clusters)+\"_Leafnodes\"+str(total_num_leaf_nodes)+\"_Round\"+str(round+1)+'.pt'))\n",
        "  print('     CNN Final Model Saved')\n",
        "\n",
        "  # plot the face after CNN training\n",
        "  # Does not select\n",
        "  cnn_heatmaps = get_heatmap_full(cnn_prob, leaf_q).reshape(B,68,-1)\n",
        "  first_face = torch.sum(cnn_heatmaps[0,:,:],axis=0)\n",
        "  first_face = first_face/torch.sum(first_face)\n",
        "  plt.imshow(first_face.reshape(256,256).detach().cpu())\n",
        "  plt.title(\"Anneal: Round\"+str(round+1)+\"_CNN Full\")\n",
        "  plt.savefig(os.path.join(\"checkpoints/Fullset_Fullpoints_Cluster/var\"+str(variance_gaussian)+\"_LossKL_Clusters\"+str(Num_Clusters)+\"_Leafnodes\"+str(total_num_leaf_nodes)+\"_Round\"+str(round+1)+\"_CNN_Full.png\"))\n",
        "  plt.show()\n",
        "\n",
        "  # Selcet\n",
        "  cnn_prob_test = phi(outputs, mode='test')\n",
        "  cnn_heatmaps = get_heatmap_full(cnn_prob_test, leaf_q).reshape(B,68,-1)\n",
        "  first_face = torch.sum(cnn_heatmaps[0,:,:],axis=0)\n",
        "  first_face = first_face/torch.sum(first_face)\n",
        "  plt.imshow(first_face.reshape(256,256).detach().cpu())\n",
        "  plt.title(\"Anneal: Round\"+str(round+1)+\"_CNN Select\")\n",
        "  plt.savefig(os.path.join(\"checkpoints/Fullset_Fullpoints_Cluster/var\"+str(variance_gaussian)+\"_LossKL_Clusters\"+str(Num_Clusters)+\"_Leafnodes\"+str(total_num_leaf_nodes)+\"_Round\"+str(round+1)+\"_CNN_Select.png\"))\n",
        "  plt.show()\n",
        "\n",
        "  ######################################################\n",
        "  ### Train Regression Trees using variational bounding\n",
        "  ######################################################\n",
        "  with torch.no_grad():\n",
        "    loss0, loss_select = 0, 0\n",
        "    # leaf_q = leaf_q.reshape(total_num_leaf_nodes,68,256*256)\n",
        "    new_leaf_q = {}\n",
        "    for key_q in leaf_q.keys():\n",
        "      new_leaf_q[key_q] = torch.zeros(leaf_q[key_q].shape).to(device)\n",
        "\n",
        "\n",
        "    for i, (x,coord,y) in enumerate(train_dataloder):\n",
        "      # next_leaf_q = leaf_q.clone()\n",
        "      x = x.float().to(device)\n",
        "      y = y.float().to(device)\n",
        "      coord = coord.float().to(device)\n",
        "      B = x.shape[0]\n",
        "      y_expand = y.reshape(B,68,-1) #(200,68,256*256)\n",
        "\n",
        "      outputs = Tune_HGNet.forward(x)*(round*0.2+1)\n",
        "      cnn_prob = phi(outputs)\n",
        "      cnn_prob_select = phi(outputs, mode='test')\n",
        "\n",
        "      for cluster_ind in range(Num_Clusters):\n",
        "        nleaf_start = torch.sum(num_leaf_nodes[0:cluster_ind]).item()\n",
        "        nleaf_end = torch.sum(num_leaf_nodes[0:cluster_ind+1]).item()\n",
        "        pts_start = torch.sum(cluster_len[0:cluster_ind]).item()\n",
        "        pts_end = torch.sum(cluster_len[0:cluster_ind+1]).item()\n",
        "\n",
        "        this_prob = cnn_prob[:,nleaf_start:nleaf_end]\n",
        "        this_prob_select = cnn_prob_select[:,nleaf_start:nleaf_end]\n",
        "\n",
        "        this_y_expand = y_expand[:,pts_start:pts_end,:]\n",
        "        this_coord = coord[:,pts_start:pts_end,:]\n",
        "\n",
        "        this_leaf_q = leaf_q[cluster_ind]\n",
        "        q1,q2 = this_leaf_q.shape[0:2]\n",
        "        this_leaf_q = this_leaf_q.reshape(q1,q2,-1)\n",
        "        next_leaf_q = this_leaf_q.clone()\n",
        "\n",
        "        for rf_iter in range(rf_Iters):\n",
        "          for points_id in range(int(pts_end-pts_start)):\n",
        "            next_leaf_q[:,points_id,:] = update_iter(next_leaf_q[:,points_id,:], this_prob, this_y_expand[:,points_id,:])\n",
        "          if ((i+1)%10 == 0 or i == 0) and ((rf_iter+1)%10 == 0 or rf_iter == 0):\n",
        "            rf_loss_CE = loss_alogb(B, next_leaf_q, this_prob, this_y_expand)\n",
        "            print(\"     RF training, Batch %d, rf_iter [%d/%d], Cluster: [%d], loss_CE: %.4f\" %(i+1, rf_iter+1, rf_Iters, cluster_ind, rf_loss_CE))\n",
        "        \n",
        "        new_leaf_q[cluster_ind] += next_leaf_q.reshape(next_leaf_q.shape[0],-1,256,256)\n",
        "\n",
        "        # Calculate loss\n",
        "        # rf_heatmap = get_heatmap_full(cnn_prob, leaf_q)\n",
        "        pred_coord0 = find_coord(torch.matmul(this_prob,next_leaf_q.reshape(next_leaf_q.shape[0],-1)), next_leaf_q.shape[1])\n",
        "        loss0 += torch.sum(torch.abs(pred_coord0-this_coord.reshape(B,-1)))/B\n",
        "        pred_coord_select = find_coord(torch.matmul(this_prob_select,next_leaf_q.reshape(next_leaf_q.shape[0],-1)), next_leaf_q.shape[1])\n",
        "        loss_select += torch.sum(torch.abs(pred_coord_select-this_coord.reshape(B,-1)))/B\n",
        "      \n",
        "      if (i+1)%20 == 0:\n",
        "        torch.save(next_leaf_q, os.path.join(\"checkpoints/Fullset_Fullpoints_Cluster/leaf_q_var\"+str(variance_gaussian)+\"_LossKL_Clusters\"+str(Num_Clusters)+\"_Leafnodes\"+str(total_num_leaf_nodes)+\"_Round\"+str(round+1)+'_Intermediate.pt'))\n",
        "        print('     Leaf_q intermediate results saved')\n",
        "\n",
        "    # update leaf node\n",
        "    for key_q in leaf_q.keys():\n",
        "      sum_leaf = next_leaf_q[key_q]\n",
        "      leaf_q[key_q] = sum_leaf/torch.sum(sum_leaf, axis=2, keepdims=True)\n",
        "    \n",
        "\n",
        "\n",
        "  # plot the face after rf training\n",
        "  # Does not select\n",
        "  rf_heatmaps = get_heatmap_full(cnn_prob, leaf_q).reshape(B,68,-1)\n",
        "  first_face = torch.sum(rf_heatmaps[0,:,:],axis=0)\n",
        "  first_face = first_face/torch.sum(first_face)\n",
        "  plt.imshow(first_face.reshape(256,256).detach().cpu())\n",
        "  plt.title(\"Anneal: Round\"+str(round+1)+\"_RF Full\")\n",
        "  plt.savefig(os.path.join(\"checkpoints/Fullset_Fullpoints_Cluster/var\"+str(variance_gaussian)+\"_LossKL_Clusters\"+str(Num_Clusters)+\"_Leafnodes\"+str(total_num_leaf_nodes)+\"_Round\"+str(round+1)+\"_RF_Full.png\"))\n",
        "  plt.show()\n",
        "\n",
        "  # Select\n",
        "  cnn_prob_test = phi(outputs, mode='test')\n",
        "  rf_heatmaps = get_heatmap_full(cnn_prob_test, leaf_q).reshape(B,68,-1)\n",
        "  first_face = torch.sum(rf_heatmaps[0,:,:],axis=0)\n",
        "  first_face = first_face/torch.sum(first_face)\n",
        "  plt.imshow(first_face.reshape(256,256).detach().cpu())\n",
        "  plt.title(\"Anneal: Round\"+str(round+1)+\"_RF Select\")\n",
        "  plt.savefig(os.path.join(\"checkpoints/Fullset_Fullpoints_Cluster/var\"+str(variance_gaussian)+\"_LossKL_Clusters\"+str(Num_Clusters)+\"_Leafnodes\"+str(total_num_leaf_nodes)+\"_Round\"+str(round+1)+\"_RF_Select.png\"))\n",
        "  plt.show()\n",
        "\n",
        "  print(\"     RF training, coordinate loss: %.2f, after selcetion: %.2f\" %(loss0/200, loss_select/200))\n",
        "\n",
        "  # save parameters for this round\n",
        "  torch.save(leaf_q, os.path.join(\"checkpoints/Fullset_Fullpoints_Cluster/leaf_q_var\"+str(variance_gaussian)+\"_LossKL_Clusters\"+str(Num_Clusters)+\"_Leafnodes\"+str(total_num_leaf_nodes)+\"_Round\"+str(round+1)+'.pt'))\n",
        "  print('     Leaf_q Final Result Saved')\n",
        "  \n",
        "  # calculate time for rf training\n",
        "  time_rf = time.time()\n",
        "  print(\"     -----> RF training time: ## %.2f hrs ## \" %((time_rf-time_cnn)/3600))\n",
        "  print(\"     -----> Training time for this round: ## %.2f mins ## \" %((time_rf-time_start)/60))\n",
        "\n",
        "# Finish Training\n",
        "torch.save(Tune_HGNet.state_dict(), os.path.join(\"checkpoints/Fullset_Fullpoints_Cluster/Tune_HGNet_var\"+str(variance_gaussian)+\"_LossKL_Clusters\"+str(Num_Clusters)+\"_Leafnodes\"+str(total_num_leaf_nodes)+\"_final.pt\"))\n",
        "torch.save(leaf_q, os.path.join(\"checkpoints/Fullset_Fullpoints_Cluster/leaf_q_var\"+str(variance_gaussian)+\"_LossKL_Clusters\"+str(Num_Clusters)+\"_Leafnodes\"+str(total_num_leaf_nodes)+\"_final.pt\"))\n",
        "\n",
        "# calculate total training time\n",
        "time_end = time.time()\n",
        "print(\"-----> Total training time: ## %.2f hrs ## \" %((time_end-time_initial)/3600))"
      ],
      "execution_count": null,
      "outputs": []
    },
    {
      "cell_type": "code",
      "metadata": {
        "id": "e9mgurWfjTqO"
      },
      "source": [
        "for ith in range(20):\n",
        "  px = pred_coord0[ith,::2].detach().cpu()\n",
        "  py = pred_coord0[ith,1::2].detach().cpu()\n",
        "\n",
        "  lx = coord[ith,36:48,0].detach().cpu()\n",
        "  ly = coord[ith,36:48,1].detach().cpu()\n",
        "\n",
        "  plt.scatter(lx,256-ly,label='Label')\n",
        "  plt.scatter(px,256-py,label='Prediction')\n",
        "\n",
        "  plt.xlim(0,256)\n",
        "  plt.ylim(0,256)\n",
        "  plt.title(str(ith)+\"th Train Sample - Full\")\n",
        "  plt.legend(loc='lower left')\n",
        "  plt.show()"
      ],
      "execution_count": null,
      "outputs": []
    },
    {
      "cell_type": "code",
      "metadata": {
        "id": "2Cqh3F9ljmXf"
      },
      "source": [
        "for ith in range(20):\n",
        "  px = pred_coord_select[ith,::2].detach().cpu()\n",
        "  py = pred_coord-select[ith,1::2].detach().cpu()\n",
        "\n",
        "  lx = coord[ith,36:48,0].detach().cpu()\n",
        "  ly = coord[ith,36:48,1].detach().cpu()\n",
        "\n",
        "  plt.scatter(lx,256-ly,label='Label')\n",
        "  plt.scatter(px,256-py,label='Prediction')\n",
        "\n",
        "  plt.xlim(0,256)\n",
        "  plt.ylim(0,256)\n",
        "  plt.title(str(ith)+\"th Train Sample - Select\")\n",
        "  plt.legend(loc='lower left')\n",
        "  plt.show()"
      ],
      "execution_count": null,
      "outputs": []
    },
    {
      "cell_type": "markdown",
      "metadata": {
        "id": "8EeDVC4n4l_O"
      },
      "source": [
        "## 4.5 Test"
      ]
    },
    {
      "cell_type": "markdown",
      "metadata": {
        "id": "Thgdc-wEzmgX"
      },
      "source": [
        "### Restore from saved weights"
      ]
    },
    {
      "cell_type": "code",
      "metadata": {
        "id": "vs7Xwkkja7B9"
      },
      "source": [
        "Tune_HGNet = HGNet(tune=True).to(device)\n",
        "Tune_HGNet._HGNet__lin = nn.Sequential(nn.Conv2d(128,64,1),\n",
        "                    nn.BatchNorm2d(64),\n",
        "                    nn.ReLU(inplace=True),\n",
        "                    nn.MaxPool2d(4,4),  #(64,64,64)\n",
        "                    nn.Conv2d(64,16,1),\n",
        "                    nn.BatchNorm2d(16),\n",
        "                    nn.ReLU(inplace=True),\n",
        "                    nn.MaxPool2d(2,2),  #(16,32,32)\n",
        "                    nn.Conv2d(16,4,1),\n",
        "                    nn.BatchNorm2d(4),\n",
        "                    nn.ReLU(inplace=True),\n",
        "                    nn.MaxPool2d(2,2)).to(device)  #(4,16,16)\n",
        "\n",
        "Tune_HGNet._HGNet__tune = nn.Sequential(nn.Linear(4*16*16,num_fc)).to(device)\n",
        "\n",
        "Tune_HGNet.load_state_dict(torch.load(os.path.join(\"checkpoints/Anneal_Full_Train/Tune_HGNet_var\"+str(variance_gaussian)+\"_LossKL_dim\"+str(dim_tree)+\"_num\"+str(num_tree)+\"_Round5.pt\")))\n",
        "leaf_q = torch.load(os.path.join(\"checkpoints/Anneal_Full_Train/leaf_q_var\"+str(variance_gaussian)+\"_LossKL_dim\"+str(dim_tree)+\"_num\"+str(num_tree)+\"_Round5.pt\"))"
      ],
      "execution_count": null,
      "outputs": []
    },
    {
      "cell_type": "code",
      "metadata": {
        "id": "MG3xsCz9cijw"
      },
      "source": [
        "# import torchsummary\n",
        "# def count_parameters(model):\n",
        "#   return sum(p.numel() for p in model.parameters() if p.requires_grad)\n",
        "# torchsummary.summary(Tune_HGNet, (3,256,256))\n",
        "# print('parameters_count:',count_parameters(Tune_HGNet))"
      ],
      "execution_count": null,
      "outputs": []
    },
    {
      "cell_type": "markdown",
      "metadata": {
        "id": "_o5i1wavzskb"
      },
      "source": [
        "### Test"
      ]
    },
    {
      "cell_type": "code",
      "metadata": {
        "id": "ESP_sj1zn-Gy"
      },
      "source": [
        "def NME_eye(pred_coord, label_coord):\n",
        "  # pred_coord(B,12*2)\n",
        "  x = pred_coord[:,::2]\n",
        "  y = pred_coord[:,1::2]\n",
        "  x_label = label_coord[:,::2]\n",
        "  y_label = label_coord[:,1::2]\n",
        "\n",
        "  x_center_left = torch.sum(x[:,0:6],axis=1,keepdims=True)/6\n",
        "  x_center_right = torch.sum(x[:,6:12],axis=1,keepdims=True)/6\n",
        "  y_center_left = torch.sum(y[:,0:6],axis=1,keepdims=True)/6\n",
        "  y_center_right = torch.sum(y[:,6:12],axis=1,keepdims=True)/6\n",
        "  dist = torch.sqrt((x_center_left-x_center_right)**2 + (y_center_left-y_center_right)**2)\n",
        "\n",
        "  Err = ((x-x_label)**2 + (y-y_label)**2)/dist\n",
        "  return torch.sum(Err)/x.shape[0]/12"
      ],
      "execution_count": null,
      "outputs": []
    },
    {
      "cell_type": "code",
      "metadata": {
        "id": "vzqC6QRF6FS4"
      },
      "source": [
        "NME_loss_select = NME_loss = coord_loss = coord_loss_select = 0\n",
        "Tune_HGNet.eval()\n",
        "\n",
        "for i, (img,coord,hm) in enumerate(test_dataloder):\n",
        "  img = img.float().to(device)\n",
        "  img.requires_grad = True\n",
        "  coord = coord.float().to(device)\n",
        "  hm = hm.float().to(device)\n",
        "  B = img.shape[0]\n",
        "  \n",
        "  outputs = Tune_HGNet.forward(img)\n",
        "  pred_heatmaps = torch.matmul(phi(outputs),leaf_q.reshape(total_num_leaf_nodes,-1)) #(15,12*256*256)\n",
        "  pred_heatmaps_select = torch.matmul(phi(outputs,mode='test'),leaf_q.reshape(total_num_leaf_nodes,-1)) #(15,12*256*256)\n",
        "  pred_coord0 = find_coord(pred_heatmaps)\n",
        "  pred_coords = find_coord(pred_heatmaps_select) #(15,12*2)\n",
        "\n",
        "  #heatmap_loss += criterion(pred_heatmaps, hm[:,36:48,:,:].reshape(B,-1))\n",
        "  coord_loss += torch.sum(torch.abs(pred_coord0-coord[:,36:48,:].reshape(B,-1)))/B\n",
        "  coord_loss_select += torch.sum(torch.abs(pred_coords-coord[:,36:48,:].reshape(B,-1)))/B\n",
        "  NME_loss += NME_eye(pred_coord0,coord[:,36:48,:].reshape(B,-1))\n",
        "  NME_loss_select += NME_eye(pred_coords,coord[:,36:48,:].reshape(B,-1))\n",
        "\n",
        "print(\"Coord L1 loss %.4f, after selection: %.4f\" %(coord_loss/11, coord_loss_select/11))\n",
        "print(\"Coord NME loss %.4f, after selection: %.4f\" %(NME_loss/11, NME_loss_select/11))"
      ],
      "execution_count": null,
      "outputs": []
    },
    {
      "cell_type": "code",
      "metadata": {
        "colab": {
          "base_uri": "https://localhost:8080/",
          "height": 1000
        },
        "id": "66oHsH28idOh",
        "outputId": "a4bca62c-45cc-41a5-a648-c5439158ed72"
      },
      "source": [
        "# Coords\n",
        "\n",
        "for ith in range(10):\n",
        "  x = pred_coord0[ith,::2].detach().cpu()\n",
        "  y = pred_coord0[ith,1::2].detach().cpu()\n",
        "  plt.scatter(x,256-y,label=\"Prediction\")\n",
        "\n",
        "  x2 = coord[ith,36:48,0].detach().cpu()\n",
        "  y2 = coord[ith,36:48,1].detach().cpu()\n",
        "  plt.scatter(x2,256-y2,label=\"GT\")\n",
        "\n",
        "  plt.legend(loc='lower left')\n",
        "  plt.xlim(0,256)\n",
        "  plt.ylim(0,256)\n",
        "  plt.title(str(ith)+\"th prediction - Full\")\n",
        "  plt.show()"
      ],
      "execution_count": null,
      "outputs": [
        {
          "output_type": "display_data",
          "data": {
            "image/png": "[encoded data removed]",
            "text/plain": [
              "<Figure size 432x288 with 1 Axes>"
            ]
          },
          "metadata": {
            "tags": []
          }
        },
        {
          "output_type": "display_data",
          "data": {
            "image/png": "[encoded data removed]",
            "text/plain": [
              "<Figure size 432x288 with 1 Axes>"
            ]
          },
          "metadata": {
            "tags": []
          }
        },
        {
          "output_type": "display_data",
          "data": {
            "image/png": "[encoded data removed]",
            "text/plain": [
              "<Figure size 432x288 with 1 Axes>"
            ]
          },
          "metadata": {
            "tags": []
          }
        },
        {
          "output_type": "display_data",
          "data": {
            "image/png": "[encoded data removed]",
            "text/plain": [
              "<Figure size 432x288 with 1 Axes>"
            ]
          },
          "metadata": {
            "tags": []
          }
        },
        {
          "output_type": "display_data",
          "data": {
            "image/png": "[encoded data removed]",
            "text/plain": [
              "<Figure size 432x288 with 1 Axes>"
            ]
          },
          "metadata": {
            "tags": []
          }
        },
        {
          "output_type": "display_data",
          "data": {
            "image/png": "[encoded data removed]",
            "text/plain": [
              "<Figure size 432x288 with 1 Axes>"
            ]
          },
          "metadata": {
            "tags": []
          }
        },
        {
          "output_type": "display_data",
          "data": {
            "image/png": "[encoded data removed]",
            "text/plain": [
              "<Figure size 432x288 with 1 Axes>"
            ]
          },
          "metadata": {
            "tags": []
          }
        },
        {
          "output_type": "display_data",
          "data": {
            "image/png": "[encoded data removed]",
            "text/plain": [
              "<Figure size 432x288 with 1 Axes>"
            ]
          },
          "metadata": {
            "tags": []
          }
        },
        {
          "output_type": "display_data",
          "data": {
            "image/png": "[encoded data removed]",
            "text/plain": [
              "<Figure size 432x288 with 1 Axes>"
            ]
          },
          "metadata": {
            "tags": []
          }
        },
        {
          "output_type": "display_data",
          "data": {
            "image/png": "[encoded data removed]",
            "text/plain": [
              "<Figure size 432x288 with 1 Axes>"
            ]
          },
          "metadata": {
            "tags": []
          }
        }
      ]
    },
    {
      "cell_type": "code",
      "metadata": {
        "colab": {
          "base_uri": "https://localhost:8080/",
          "height": 246
        },
        "id": "-LbZvjv34pD-",
        "outputId": "d0ed4fcb-9992-46b6-8191-3ccb5b9cc651"
      },
      "source": [
        "# Coords\n",
        "\n",
        "for ith in range(10):\n",
        "  x = pred_coords[ith,::2].detach().cpu()\n",
        "  y = pred_coords[ith,1::2].detach().cpu()\n",
        "  plt.scatter(x,256-y,label=\"Prediction\")\n",
        "\n",
        "  x2 = coord[ith,36:48,0].detach().cpu()\n",
        "  y2 = coord[ith,36:48,1].detach().cpu()\n",
        "  plt.scatter(x2,256-y2,label=\"GT\")\n",
        "\n",
        "  plt.legend(loc='lower left')\n",
        "  plt.xlim(0,256)\n",
        "  plt.ylim(0,256)\n",
        "  plt.title(str(ith)+\"th prediction - Selected\")\n",
        "  plt.show()"
      ],
      "execution_count": null,
      "outputs": [
        {
          "output_type": "error",
          "ename": "NameError",
          "evalue": "ignored",
          "traceback": [
            "\u001b[0;31m---------------------------------------------------------------------------\u001b[0m",
            "\u001b[0;31mNameError\u001b[0m                                 Traceback (most recent call last)",
            "\u001b[0;32m<ipython-input-19-a0c8a75a530f>\u001b[0m in \u001b[0;36m<module>\u001b[0;34m()\u001b[0m\n\u001b[1;32m      2\u001b[0m \u001b[0;34m\u001b[0m\u001b[0m\n\u001b[1;32m      3\u001b[0m \u001b[0;32mfor\u001b[0m \u001b[0mith\u001b[0m \u001b[0;32min\u001b[0m \u001b[0mrange\u001b[0m\u001b[0;34m(\u001b[0m\u001b[0;36m10\u001b[0m\u001b[0;34m)\u001b[0m\u001b[0;34m:\u001b[0m\u001b[0;34m\u001b[0m\u001b[0;34m\u001b[0m\u001b[0m\n\u001b[0;32m----> 4\u001b[0;31m   \u001b[0mx\u001b[0m \u001b[0;34m=\u001b[0m \u001b[0mpred_coords\u001b[0m\u001b[0;34m[\u001b[0m\u001b[0mith\u001b[0m\u001b[0;34m,\u001b[0m\u001b[0;34m:\u001b[0m\u001b[0;34m:\u001b[0m\u001b[0;36m2\u001b[0m\u001b[0;34m]\u001b[0m\u001b[0;34m.\u001b[0m\u001b[0mdetach\u001b[0m\u001b[0;34m(\u001b[0m\u001b[0;34m)\u001b[0m\u001b[0;34m.\u001b[0m\u001b[0mcpu\u001b[0m\u001b[0;34m(\u001b[0m\u001b[0;34m)\u001b[0m\u001b[0;34m\u001b[0m\u001b[0;34m\u001b[0m\u001b[0m\n\u001b[0m\u001b[1;32m      5\u001b[0m   \u001b[0my\u001b[0m \u001b[0;34m=\u001b[0m \u001b[0mpred_coords\u001b[0m\u001b[0;34m[\u001b[0m\u001b[0mith\u001b[0m\u001b[0;34m,\u001b[0m\u001b[0;36m1\u001b[0m\u001b[0;34m:\u001b[0m\u001b[0;34m:\u001b[0m\u001b[0;36m2\u001b[0m\u001b[0;34m]\u001b[0m\u001b[0;34m.\u001b[0m\u001b[0mdetach\u001b[0m\u001b[0;34m(\u001b[0m\u001b[0;34m)\u001b[0m\u001b[0;34m.\u001b[0m\u001b[0mcpu\u001b[0m\u001b[0;34m(\u001b[0m\u001b[0;34m)\u001b[0m\u001b[0;34m\u001b[0m\u001b[0;34m\u001b[0m\u001b[0m\n\u001b[1;32m      6\u001b[0m   \u001b[0mplt\u001b[0m\u001b[0;34m.\u001b[0m\u001b[0mscatter\u001b[0m\u001b[0;34m(\u001b[0m\u001b[0mx\u001b[0m\u001b[0;34m,\u001b[0m\u001b[0;36m256\u001b[0m\u001b[0;34m-\u001b[0m\u001b[0my\u001b[0m\u001b[0;34m,\u001b[0m\u001b[0mlabel\u001b[0m\u001b[0;34m=\u001b[0m\u001b[0;34m\"Prediction\"\u001b[0m\u001b[0;34m)\u001b[0m\u001b[0;34m\u001b[0m\u001b[0;34m\u001b[0m\u001b[0m\n",
            "\u001b[0;31mNameError\u001b[0m: name 'pred_coords' is not defined"
          ]
        }
      ]
    },
    {
      "cell_type": "code",
      "metadata": {
        "id": "1DRTjKI84pIQ"
      },
      "source": [
        "plot_heatmaps = pred_heatmaps.reshape(B,12,256,256).detach().cpu()\n",
        "plot_heatmaps_all = torch.sum(plot_heatmaps,axis=1)\n",
        "for ith in range(10):\n",
        "  plt.imshow(plot_heatmaps_all[ith,:,:])\n",
        "  plt.title(str(ith)+\"th prediction heatmap\")\n",
        "  plt.show()"
      ],
      "execution_count": null,
      "outputs": []
    },
    {
      "cell_type": "code",
      "metadata": {
        "id": "vY7qPeV4bWKn"
      },
      "source": [
        "for nleaf in range(48):\n",
        "  plt.imshow(leaf_q.reshape(total_num_leaf_nodes,12,256,256)[nleaf,0,:,:].detach().cpu())\n",
        "  plt.title(str(ith)+\"th leafnode, first point, first img\")\n",
        "  plt.show()"
      ],
      "execution_count": null,
      "outputs": []
    },
    {
      "cell_type": "code",
      "metadata": {
        "id": "KKUpxW2j4pOr"
      },
      "source": [
        "image = torch.sum(hm, axis=1).detach().cpu()\n",
        "plt.imshow(image[ith,:,:])"
      ],
      "execution_count": null,
      "outputs": []
    },
    {
      "cell_type": "code",
      "metadata": {
        "id": "pLaQ4ZR44pQy"
      },
      "source": [
        "plt.imshow(img[ith,:,:,:].detach().cpu().permute(1,2,0).int())"
      ],
      "execution_count": null,
      "outputs": []
    },
    {
      "cell_type": "code",
      "metadata": {
        "id": "P1iaeeFp6FVR"
      },
      "source": [
        ""
      ],
      "execution_count": null,
      "outputs": []
    },
    {
      "cell_type": "code",
      "metadata": {
        "id": "ep1i7rO7XpVh"
      },
      "source": [
        ""
      ],
      "execution_count": null,
      "outputs": []
    },
    {
      "cell_type": "code",
      "metadata": {
        "id": "Z2C-MbCgX3_C"
      },
      "source": [
        ""
      ],
      "execution_count": null,
      "outputs": []
    },
    {
      "cell_type": "code",
      "metadata": {
        "id": "hHPE8TpsYGon"
      },
      "source": [
        ""
      ],
      "execution_count": null,
      "outputs": []
    },
    {
      "cell_type": "code",
      "metadata": {
        "id": "lpKo-3dUYVSS"
      },
      "source": [
        ""
      ],
      "execution_count": null,
      "outputs": []
    },
    {
      "cell_type": "code",
      "metadata": {
        "id": "MHQwICxYYj7_"
      },
      "source": [
        ""
      ],
      "execution_count": null,
      "outputs": []
    },
    {
      "cell_type": "code",
      "metadata": {
        "id": "cO9Q7X0WYylq"
      },
      "source": [
        ""
      ],
      "execution_count": null,
      "outputs": []
    },
    {
      "cell_type": "code",
      "metadata": {
        "id": "eLceOOCgZBPX"
      },
      "source": [
        ""
      ],
      "execution_count": null,
      "outputs": []
    },
    {
      "cell_type": "code",
      "metadata": {
        "id": "CXbSxytZZei5"
      },
      "source": [
        ""
      ],
      "execution_count": null,
      "outputs": []
    }
  ]
}