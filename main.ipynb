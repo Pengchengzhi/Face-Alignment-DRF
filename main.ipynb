{
  "nbformat": 4,
  "nbformat_minor": 0,
  "metadata": {
    "colab": {
      "name": "main.ipynb",
      "provenance": [],
      "collapsed_sections": [],
      "authorship_tag": "ABX9TyMRG5FHUhDhv0m0owPRlR/0",
      "include_colab_link": true
    },
    "kernelspec": {
      "name": "python3",
      "display_name": "Python 3"
    }
  },
  "cells": [
    {
      "cell_type": "markdown",
      "metadata": {
        "id": "view-in-github",
        "colab_type": "text"
      },
      "source": [
        "<a href=\"https://colab.research.google.com/github/Pengchengzhi/Face-Alignment-DRF/blob/main/main.ipynb\" target=\"_parent\"><img src=\"https://colab.research.google.com/assets/colab-badge.svg\" alt=\"Open In Colab\"/></a>"
      ]
    },
    {
      "cell_type": "markdown",
      "metadata": {
        "id": "d2ql6y6-GJL-"
      },
      "source": [
        "# Initialize"
      ]
    },
    {
      "cell_type": "code",
      "metadata": {
        "colab": {
          "base_uri": "https://localhost:8080/"
        },
        "id": "GJE9wVhJGMOX",
        "outputId": "2853fea2-eaa9-4737-c458-f26791c5cd45"
      },
      "source": [
        "from google.colab import drive\r\n",
        "drive.mount(\"/content/drive\")"
      ],
      "execution_count": 1,
      "outputs": [
        {
          "output_type": "stream",
          "text": [
            "Mounted at /content/drive\n"
          ],
          "name": "stdout"
        }
      ]
    },
    {
      "cell_type": "code",
      "metadata": {
        "colab": {
          "base_uri": "https://localhost:8080/"
        },
        "id": "EMhJ5HunGMQp",
        "outputId": "1c49ab86-5933-4d2a-aae4-1c8f3308448a"
      },
      "source": [
        "import os\r\n",
        "path=\"/content/drive/My Drive/Face Alignment DRF\"\r\n",
        "os.chdir(path)\r\n",
        "os.listdir(path)"
      ],
      "execution_count": 2,
      "outputs": [
        {
          "output_type": "execute_result",
          "data": {
            "text/plain": [
              "['main.ipynb', 'func1.py']"
            ]
          },
          "metadata": {
            "tags": []
          },
          "execution_count": 2
        }
      ]
    },
    {
      "cell_type": "code",
      "metadata": {
        "id": "XA3VLB6LoLpB"
      },
      "source": [
        "import numpy as np\r\n",
        "import torch\r\n",
        "import imageio\r\n",
        "import matplotlib.pyplot as plt\r\n",
        "import argparse, os, sys\r\n",
        "import cv2\r\n",
        "from PIL import Image"
      ],
      "execution_count": 28,
      "outputs": []
    },
    {
      "cell_type": "markdown",
      "metadata": {
        "id": "xmUGWKdAGJP9"
      },
      "source": [
        "Dataset: 300W https://ibug.doc.ic.ac.uk/resources/300-W/"
      ]
    },
    {
      "cell_type": "markdown",
      "metadata": {
        "id": "-V0wqcAIkQ6I"
      },
      "source": [
        "## Data preparation"
      ]
    },
    {
      "cell_type": "code",
      "metadata": {
        "id": "a-cD4cgXom3a"
      },
      "source": [
        "# https://github.com/musyoku/face-alignment-at-3000fps/blob/master/run/train.py\r\n",
        "\r\n",
        "def load_annotations(directory):\r\n",
        "\tannotations = {}\r\n",
        "\tfs = os.listdir(directory)\r\n",
        "\tfor filename in fs:\r\n",
        "\t\tif filename.endswith(\".pts\"):\r\n",
        "\t\t\twith open(os.path.join(directory, filename), \"r\") as f:\r\n",
        "\t\t\t\tannotation = f.read().strip().split(\"\\n\")\r\n",
        "\t\t\t\t#assert len(annotation) == 72\r\n",
        "\t\t\t\tlandmarks = []\r\n",
        "\t\t\t\tfor location_str in annotation[3:-1]:\r\n",
        "\t\t\t\t\tlocation = location_str.split(\" \")\r\n",
        "\t\t\t\t\tlandmarks.append((float(location[0]), float(location[1])))\r\n",
        "\t\t\t\tannotations[filename.replace(\".pts\", \"\")] = landmarks\r\n",
        "\treturn annotations"
      ],
      "execution_count": 18,
      "outputs": []
    },
    {
      "cell_type": "code",
      "metadata": {
        "id": "PmS7qZz7om5f"
      },
      "source": [
        "dataset_afw_path=\"/content/drive/My Drive/Face Alignment DRF/datasets/afw\""
      ],
      "execution_count": 19,
      "outputs": []
    },
    {
      "cell_type": "code",
      "metadata": {
        "id": "EXGIOw4Eom8O"
      },
      "source": [
        "anno = load_annotations(dataset_afw_path)"
      ],
      "execution_count": 21,
      "outputs": []
    },
    {
      "cell_type": "code",
      "metadata": {
        "id": "LDgWdJfRoSYC"
      },
      "source": [
        "points = anno['1051618982_1']"
      ],
      "execution_count": 31,
      "outputs": []
    },
    {
      "cell_type": "code",
      "metadata": {
        "id": "eKXNm_0AmONn",
        "outputId": "e4c3f3f0-5169-4f03-ab36-9db1bc59b097",
        "colab": {
          "base_uri": "https://localhost:8080/"
        }
      },
      "source": [
        "points[1]"
      ],
      "execution_count": 32,
      "outputs": [
        {
          "output_type": "execute_result",
          "data": {
            "text/plain": [
              "(484.241455, 298.524244)"
            ]
          },
          "metadata": {
            "tags": []
          },
          "execution_count": 32
        }
      ]
    },
    {
      "cell_type": "code",
      "metadata": {
        "id": "Bl-KcfLUmOQJ"
      },
      "source": [
        "x = [points[i][0] for i in range(68)]\r\n",
        "y = [points[i][1] for i in range(68)]"
      ],
      "execution_count": 36,
      "outputs": []
    },
    {
      "cell_type": "code",
      "metadata": {
        "id": "MoX8nP9ZoSaV",
        "colab": {
          "base_uri": "https://localhost:8080/",
          "height": 264
        },
        "outputId": "bdff1fab-7208-4ac7-c554-9e0467379c0d"
      },
      "source": [
        "img = Image.open(os.path.join(dataset_afw_path, '1051618982_1' + '.jpg'))\r\n",
        "\r\n",
        "plt.figure(\"afw test\") \r\n",
        "plt.imshow(img)\r\n",
        "plt.scatter(x,y)\r\n",
        "plt.title('afw test') \r\n",
        "plt.show()"
      ],
      "execution_count": 39,
      "outputs": [
        {
          "output_type": "error",
          "ename": "TypeError",
          "evalue": "ignored",
          "traceback": [
            "\u001b[0;31m---------------------------------------------------------------------------\u001b[0m",
            "\u001b[0;31mTypeError\u001b[0m                                 Traceback (most recent call last)",
            "\u001b[0;32m<ipython-input-39-f1906300f5d1>\u001b[0m in \u001b[0;36m<module>\u001b[0;34m()\u001b[0m\n\u001b[1;32m      2\u001b[0m \u001b[0;34m\u001b[0m\u001b[0m\n\u001b[1;32m      3\u001b[0m \u001b[0mplt\u001b[0m\u001b[0;34m.\u001b[0m\u001b[0mfigure\u001b[0m\u001b[0;34m(\u001b[0m\u001b[0;34m\"afw test\"\u001b[0m\u001b[0;34m)\u001b[0m\u001b[0;34m\u001b[0m\u001b[0;34m\u001b[0m\u001b[0m\n\u001b[0;32m----> 4\u001b[0;31m \u001b[0mplt\u001b[0m\u001b[0;34m.\u001b[0m\u001b[0mimshow\u001b[0m\u001b[0;34m(\u001b[0m\u001b[0mimg\u001b[0m\u001b[0;34m[\u001b[0m\u001b[0;36m400\u001b[0m\u001b[0;34m:\u001b[0m\u001b[0;36m800\u001b[0m\u001b[0;34m,\u001b[0m \u001b[0;36m0\u001b[0m\u001b[0;34m:\u001b[0m\u001b[0;36m500\u001b[0m\u001b[0;34m]\u001b[0m\u001b[0;34m)\u001b[0m\u001b[0;34m\u001b[0m\u001b[0;34m\u001b[0m\u001b[0m\n\u001b[0m\u001b[1;32m      5\u001b[0m \u001b[0mplt\u001b[0m\u001b[0;34m.\u001b[0m\u001b[0mscatter\u001b[0m\u001b[0;34m(\u001b[0m\u001b[0mx\u001b[0m\u001b[0;34m,\u001b[0m\u001b[0my\u001b[0m\u001b[0;34m)\u001b[0m\u001b[0;34m\u001b[0m\u001b[0;34m\u001b[0m\u001b[0m\n\u001b[1;32m      6\u001b[0m \u001b[0mplt\u001b[0m\u001b[0;34m.\u001b[0m\u001b[0mtitle\u001b[0m\u001b[0;34m(\u001b[0m\u001b[0;34m'afw test'\u001b[0m\u001b[0;34m)\u001b[0m\u001b[0;34m\u001b[0m\u001b[0;34m\u001b[0m\u001b[0m\n",
            "\u001b[0;31mTypeError\u001b[0m: 'JpegImageFile' object is not subscriptable"
          ]
        },
        {
          "output_type": "display_data",
          "data": {
            "text/plain": [
              "<Figure size 432x288 with 0 Axes>"
            ]
          },
          "metadata": {
            "tags": []
          }
        }
      ]
    },
    {
      "cell_type": "code",
      "metadata": {
        "id": "BPU1M_itoSey"
      },
      "source": [
        ""
      ],
      "execution_count": null,
      "outputs": []
    }
  ]
}