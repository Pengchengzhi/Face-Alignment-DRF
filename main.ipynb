{
  "nbformat": 4,
  "nbformat_minor": 0,
  "metadata": {
    "colab": {
      "name": "main.ipynb",
      "provenance": [],
      "collapsed_sections": [],
      "authorship_tag": "ABX9TyPathW+2QGvltm6TB5mNSHn",
      "include_colab_link": true
    },
    "kernelspec": {
      "name": "python3",
      "display_name": "Python 3"
    }
  },
  "cells": [
    {
      "cell_type": "markdown",
      "metadata": {
        "id": "view-in-github",
        "colab_type": "text"
      },
      "source": [
        "<a href=\"https://colab.research.google.com/github/Pengchengzhi/Face-Alignment-DRF/blob/main/main.ipynb\" target=\"_parent\"><img src=\"https://colab.research.google.com/assets/colab-badge.svg\" alt=\"Open In Colab\"/></a>"
      ]
    },
    {
      "cell_type": "markdown",
      "metadata": {
        "id": "d2ql6y6-GJL-"
      },
      "source": [
        "# Initialize"
      ]
    },
    {
      "cell_type": "code",
      "metadata": {
        "colab": {
          "base_uri": "https://localhost:8080/"
        },
        "id": "GJE9wVhJGMOX",
        "outputId": "2853fea2-eaa9-4737-c458-f26791c5cd45"
      },
      "source": [
        "from google.colab import drive\r\n",
        "drive.mount(\"/content/drive\")"
      ],
      "execution_count": 1,
      "outputs": [
        {
          "output_type": "stream",
          "text": [
            "Mounted at /content/drive\n"
          ],
          "name": "stdout"
        }
      ]
    },
    {
      "cell_type": "code",
      "metadata": {
        "colab": {
          "base_uri": "https://localhost:8080/"
        },
        "id": "EMhJ5HunGMQp",
        "outputId": "1c49ab86-5933-4d2a-aae4-1c8f3308448a"
      },
      "source": [
        "import os\r\n",
        "path=\"/content/drive/My Drive/Face Alignment DRF\"\r\n",
        "os.chdir(path)\r\n",
        "os.listdir(path)"
      ],
      "execution_count": 2,
      "outputs": [
        {
          "output_type": "execute_result",
          "data": {
            "text/plain": [
              "['main.ipynb', 'func1.py']"
            ]
          },
          "metadata": {
            "tags": []
          },
          "execution_count": 2
        }
      ]
    },
    {
      "cell_type": "code",
      "metadata": {
        "id": "XA3VLB6LoLpB"
      },
      "source": [
        "import numpy as np\r\n",
        "import torch\r\n",
        "import imageio\r\n",
        "import matplotlib.pyplot as plt\r\n",
        "import argparse, os, sys\r\n",
        "import cv2\r\n",
        "#import lbf"
      ],
      "execution_count": 17,
      "outputs": []
    },
    {
      "cell_type": "markdown",
      "metadata": {
        "id": "xmUGWKdAGJP9"
      },
      "source": [
        "Dataset: 300W https://ibug.doc.ic.ac.uk/resources/300-W/"
      ]
    },
    {
      "cell_type": "markdown",
      "metadata": {
        "id": "-V0wqcAIkQ6I"
      },
      "source": [
        "## Data preparation"
      ]
    },
    {
      "cell_type": "code",
      "metadata": {
        "id": "a-cD4cgXom3a"
      },
      "source": [
        "# https://github.com/musyoku/face-alignment-at-3000fps/blob/master/run/train.py\r\n",
        "\r\n",
        "def load_annotations(directory):\r\n",
        "\tannotations = {}\r\n",
        "\tfs = os.listdir(directory)\r\n",
        "\tfor filename in fs:\r\n",
        "\t\tif filename.endswith(\".pts\"):\r\n",
        "\t\t\twith open(os.path.join(directory, filename), \"r\") as f:\r\n",
        "\t\t\t\tannotation = f.read().strip().split(\"\\n\")\r\n",
        "\t\t\t\tassert len(annotation) == 72\r\n",
        "\t\t\t\tlandmarks = []\r\n",
        "\t\t\t\tfor location_str in annotation[3:-1]:\r\n",
        "\t\t\t\t\tlocation = location_str.split(\" \")\r\n",
        "\t\t\t\t\tlandmarks.append((float(location[0]), float(location[1])))\r\n",
        "\t\t\t\tannotations[filename.replace(\".pts\", \"\")] = landmarks\r\n",
        "\treturn annotations"
      ],
      "execution_count": 18,
      "outputs": []
    },
    {
      "cell_type": "code",
      "metadata": {
        "id": "PmS7qZz7om5f"
      },
      "source": [
        "dataset_afw_path=\"/content/drive/My Drive/Face Alignment DRF/datasets/afw\""
      ],
      "execution_count": 19,
      "outputs": []
    },
    {
      "cell_type": "code",
      "metadata": {
        "id": "EXGIOw4Eom8O"
      },
      "source": [
        "anno = load_annotations(dataset_afw_path)"
      ],
      "execution_count": 21,
      "outputs": []
    },
    {
      "cell_type": "code",
      "metadata": {
        "id": "LDgWdJfRoSYC",
        "colab": {
          "base_uri": "https://localhost:8080/"
        },
        "outputId": "9f10a132-0869-4ffb-d836-321497e74054"
      },
      "source": [
        "anno['1051618982_1']"
      ],
      "execution_count": 27,
      "outputs": [
        {
          "output_type": "execute_result",
          "data": {
            "text/plain": [
              "[(482.866335, 268.009351),\n",
              " (484.241455, 298.524244),\n",
              " (487.96382, 329.985842),\n",
              " (491.613829, 359.44637),\n",
              " (503.99249, 387.443021),\n",
              " (523.666182, 409.551102),\n",
              " (543.708366, 429.090358),\n",
              " (566.283098, 442.751692),\n",
              " (592.40997, 447.622632),\n",
              " (620.882776, 444.335368),\n",
              " (647.945683, 429.934044),\n",
              " (672.12832, 410.064399),\n",
              " (689.338245, 386.352923),\n",
              " (700.054104, 359.772126),\n",
              " (704.748552, 332.546059),\n",
              " (707.670036, 305.985617),\n",
              " (709.472899, 277.665534),\n",
              " (502.839358, 250.609239),\n",
              " (518.760769, 238.331389),\n",
              " (538.171041, 234.555816),\n",
              " (558.035178, 237.288894),\n",
              " (576.248701, 243.968298),\n",
              " (619.578042, 244.128096),\n",
              " (639.790522, 238.174411),\n",
              " (659.83105, 235.257833),\n",
              " (680.283211, 238.771356),\n",
              " (694.296051, 250.594907),\n",
              " (596.957285, 269.466311),\n",
              " (596.073856, 288.100252),\n",
              " (595.138305, 306.375321),\n",
              " (594.292976, 325.099362),\n",
              " (570.960155, 337.220227),\n",
              " (582.462727, 338.779227),\n",
              " (593.968411, 343.011531),\n",
              " (605.64631, 339.491655),\n",
              " (616.246657, 336.916296),\n",
              " (523.877731, 273.10896),\n",
              " (536.57878, 264.451618),\n",
              " (551.78017, 264.481833),\n",
              " (565.060908, 277.941197),\n",
              " (551.073561, 277.650184),\n",
              " (535.663481, 277.266108),\n",
              " (627.38626, 279.721521),\n",
              " (642.621931, 266.17758),\n",
              " (657.782004, 267.970993),\n",
              " (671.272303, 276.91186),\n",
              " (658.500704, 280.708726),\n",
              " (643.239634, 280.487651),\n",
              " (544.855003, 364.842173),\n",
              " (565.801641, 361.066399),\n",
              " (581.449385, 358.042806),\n",
              " (592.059445, 360.565608),\n",
              " (604.339738, 358.803555),\n",
              " (622.356037, 361.997505),\n",
              " (641.943644, 366.941993),\n",
              " (622.495302, 383.456075),\n",
              " (603.990317, 385.519962),\n",
              " (591.348649, 385.406662),\n",
              " (580.068281, 384.385348),\n",
              " (563.60911, 379.281936),\n",
              " (552.917511, 366.852392),\n",
              " (580.508062, 371.198816),\n",
              " (592.309498, 371.492218),\n",
              " (604.011866, 371.855814),\n",
              " (634.9524, 369.536292),\n",
              " (604.011866, 371.855814),\n",
              " (592.309498, 371.492218),\n",
              " (580.508062, 371.198816)]"
            ]
          },
          "metadata": {
            "tags": []
          },
          "execution_count": 27
        }
      ]
    },
    {
      "cell_type": "code",
      "metadata": {
        "id": "MoX8nP9ZoSaV"
      },
      "source": [
        ""
      ],
      "execution_count": null,
      "outputs": []
    },
    {
      "cell_type": "code",
      "metadata": {
        "id": "BPU1M_itoSey"
      },
      "source": [
        ""
      ],
      "execution_count": null,
      "outputs": []
    }
  ]
}